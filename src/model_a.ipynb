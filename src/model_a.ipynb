{
 "cells": [
  {
   "cell_type": "markdown",
   "id": "6fc88004-4ff7-4097-a9c8-f5f747b3f59f",
   "metadata": {},
   "source": [
    "<!-- PROJECT LOGO -->\n",
    "<br />\n",
    "<div align=\"center\">\n",
    "  <a>\n",
    "    <img src=\"https://res.cloudinary.com/dek4evg4t/image/upload/v1729273000/Group_4.png\" alt=\"Logo\" width=\"30%\">\n",
    "  </a>\n",
    "</div>\n",
    "\n",
    "### 🖹 Descripción:\n",
    "Este Proyecto tiene como objetivo aplicar redes neuronales convolucionales (CNN) para realizar una clasificación multiclase de imágenes mediante aprendizaje supervisado. Utilizando el [Covid-19 Image Dataset de Kaggle](https://www.kaggle.com/datasets/pranavraikokte/covid19-image-dataset), que contiene imágenes de rayos X clasificadas en tres categorías (Covid-19, Normal, Neumonía), en este proyecto se desarrollarán clasificadores capaces de diagnosticar enfermedades pulmonares. El proyecto también explora el uso de PyTorch para el desarrollo de modelos de Machine Learning y herramientas de monitoreo, como Weights and Biases, para el seguimiento en tiempo real del proceso de entrenamiento.\n",
    "\n",
    "### ✍️ Autores:\n",
    "* Angelo Ortiz Vega - [@angelortizv](https://github.com/angelortizv)\n",
    "* Alejandro Campos Abarca - [@MajinLoop](https://github.com/MajinLoop)\n",
    "\n",
    "### 📅 Fecha:\n",
    "20 de octubre de 2024\n",
    "\n",
    "### 📝 Notas:\n",
    "Este es el segundo proyecto del curso IC6200 - Inteligencia Artificial. En este notebook, titulado \"Covid-19 Classification\", se profundiza en técnicas de data augmentation, preprocesamiento de imágenes con filtros, y fine-tuning de modelos CNN como VGG16 para mejorar la capacidad de generalización de las redes neuronales convolucionales.\n",
    "\n",
    "### Otras notas:\n",
    "Asegurarse de contar con Python y las siguientes bibliotecas instaladas: torch, torchvision, cv2, numpy, matplotlib, Pillow."
   ]
  },
  {
   "cell_type": "markdown",
   "id": "4eacbafa",
   "metadata": {},
   "source": [
    "# 1. Configuración"
   ]
  },
  {
   "cell_type": "markdown",
   "id": "6718ba26-5ca1-4716-b8c8-06013cea193d",
   "metadata": {},
   "source": [
    "## 1.1 Importación de librerías"
   ]
  },
  {
   "cell_type": "code",
   "execution_count": 1,
   "id": "a335a33a-976f-4d14-9cd8-d03a449f4117",
   "metadata": {},
   "outputs": [],
   "source": [
    "import os\n",
    "import torch\n",
    "import torch.nn as nn\n",
    "import torch.optim as optim\n",
    "import torchvision.transforms as transforms\n",
    "from torch.utils.data import Subset, DataLoader, ConcatDataset\n",
    "from torchvision import datasets, models\n",
    "from torchvision.models import ResNet50_Weights\n",
    "from torch.utils.data import DataLoader\n",
    "from torch.optim.lr_scheduler import ReduceLROnPlateau\n",
    "from torchsummary import summary\n",
    "\n",
    "from torchviz import make_dot\n",
    "os.environ[\"PATH\"] += r\";C:\\Program Files\\Graphviz\\bin\"\n",
    "\n",
    "\n",
    "import matplotlib.pyplot as plt\n",
    "import seaborn as sns\n",
    "import numpy as np\n",
    "from sklearn.metrics import confusion_matrix, ConfusionMatrixDisplay\n",
    "\n",
    "import wandb\n",
    "import cv2 \n",
    "from PIL import Image\n",
    "import utils as u"
   ]
  },
  {
   "cell_type": "markdown",
   "id": "afc6149f-bff2-4c74-8068-931b08d43ae8",
   "metadata": {},
   "source": [
    "## 1.2 Verificación de CUDA"
   ]
  },
  {
   "cell_type": "code",
   "execution_count": 2,
   "id": "b260e3c9",
   "metadata": {},
   "outputs": [
    {
     "name": "stdout",
     "output_type": "stream",
     "text": [
      "CUDA available: True\n",
      "CUDA version: 11.8\n",
      "Number of GPUs: 1\n",
      "Current GPU: 0\n"
     ]
    }
   ],
   "source": [
    "u.check_cuda_info()\n",
    "device = torch.device(\"cuda\" if torch.cuda.is_available() else \"cpu\")"
   ]
  },
  {
   "cell_type": "markdown",
   "id": "fe626de8-6097-4c58-8414-7cf266ffabb3",
   "metadata": {},
   "source": [
    "## 1.3 Definición de Constantes"
   ]
  },
  {
   "cell_type": "code",
   "execution_count": 3,
   "id": "e5713dc4-01de-4c20-8380-a872ea57d07b",
   "metadata": {},
   "outputs": [],
   "source": [
    "SEED_VALUE = 153\n",
    "IMAGE_RESIZE = 128\n",
    "IMAGE_NORMALIZE = 0.5\n",
    "\n",
    "HYPERPARAMETERS = \\\n",
    "{\n",
    "    \"learning_rate\": 0.001,\n",
    "    \"epochs\": 20,\n",
    "    \"batch_size\": 32,\n",
    "    \"dropout_rate\": 0.5,\n",
    "}\n",
    "\n",
    "# Paths\n",
    "TRAIN_DATA_PATH = 'data/Covid19-dataset/train'\n",
    "TEST_DATA_PATH = 'data/Covid19-dataset/test'\n",
    "\n",
    "VISUALIZATION_DIR = 'visualization'\n",
    "MODEL_B_GRAPHS_DIR = 'Model_B_graphs'\n",
    "MODEL_A_GRAPHS_DIR = 'Model_A_graphs'\n",
    "\n",
    "CHECKPOINTS_DIR = 'checkpoints'\n",
    "MODEL_B_CHECKPOINTS_DIR = 'Model_B'\n",
    "MODEL_A_CHECKPOINTS_DIR = 'Model_A'\n",
    "\n",
    "DEVICE = torch.device('cuda' if torch.cuda.is_available() else 'cpu')  # Seleccionar dispositivo (GPU si disponible, si no CPU)"
   ]
  },
  {
   "cell_type": "markdown",
   "id": "8620e9bc-6b6d-4c4b-b7fd-06098f4e68aa",
   "metadata": {},
   "source": [
    "## 1.4 Configuración de librerías"
   ]
  },
  {
   "cell_type": "code",
   "execution_count": 4,
   "id": "3163c12c-d1e1-457a-8277-1533a56f71c8",
   "metadata": {},
   "outputs": [
    {
     "name": "stderr",
     "output_type": "stream",
     "text": [
      "\u001b[34m\u001b[1mwandb\u001b[0m: Using wandb-core as the SDK backend.  Please refer to https://wandb.me/wandb-core for more information.\n",
      "\u001b[34m\u001b[1mwandb\u001b[0m: Currently logged in as: \u001b[33malejandro-campos\u001b[0m (\u001b[33malejandro-campos-technological-institute-of-costa-rica\u001b[0m). Use \u001b[1m`wandb login --relogin`\u001b[0m to force relogin\n"
     ]
    },
    {
     "data": {
      "text/plain": [
       "True"
      ]
     },
     "execution_count": 4,
     "metadata": {},
     "output_type": "execute_result"
    }
   ],
   "source": [
    "# PyTorch settings\n",
    "torch.manual_seed(SEED_VALUE)\n",
    "\n",
    "# Configuración de Weights & Biases\n",
    "wandb.login()"
   ]
  },
  {
   "cell_type": "markdown",
   "id": "c07e6306-ad20-47e4-81c7-f5fb3599acc6",
   "metadata": {},
   "source": [
    "# 2. Preprocesamiento y data augmentation"
   ]
  },
  {
   "cell_type": "markdown",
   "id": "57dc4338-6587-4293-b4b9-0540a79c0f5e",
   "metadata": {},
   "source": [
    "## 2.1 Definición de filtros"
   ]
  },
  {
   "cell_type": "code",
   "execution_count": 5,
   "id": "859ebf32-a48e-4280-b36e-f83ca94a9cb6",
   "metadata": {},
   "outputs": [],
   "source": [
    "def bilateral_filter(img):\n",
    "    np_img = np.array(img)\n",
    "    filtered_img = cv2.bilateralFilter(np_img, d=15, sigmaColor=75, sigmaSpace=75)\n",
    "    return Image.fromarray(filtered_img) \n",
    "\n",
    "def canny_edge_filter(img, min_val=40, max_val=85):\n",
    "    img = np.array(img)\n",
    "    img = cv2.cvtColor(img, cv2.COLOR_RGB2BGR) # PIL (RGB) -> OpenCV (BGR)\n",
    "    img = cv2.Canny(img, min_val, max_val)\n",
    "    img = cv2.cvtColor(img, cv2.COLOR_BGR2RGB) # OpenCV (BGR) -> PIL (RGB)\n",
    "    return Image.fromarray(img)"
   ]
  },
  {
   "cell_type": "markdown",
   "id": "24dc0d8d",
   "metadata": {},
   "source": [
    "## 2.2 Definición de transforms"
   ]
  },
  {
   "cell_type": "code",
   "execution_count": 6,
   "id": "15b40e0b-7762-4962-ad4c-8264c3038486",
   "metadata": {},
   "outputs": [],
   "source": [
    "transform_r = transforms.Compose(\n",
    "    [\n",
    "        transforms.Resize((IMAGE_RESIZE, IMAGE_RESIZE)),\n",
    "        transforms.Grayscale(num_output_channels=3),  # Cambiado a 3 canales\n",
    "        transforms.ToTensor(),\n",
    "        transforms.Normalize((IMAGE_NORMALIZE,), (IMAGE_NORMALIZE,))\n",
    "    ]\n",
    ")\n",
    "\n",
    "transform_r_augmented = transforms.Compose(\n",
    "    [\n",
    "        transforms.Resize((IMAGE_RESIZE, IMAGE_RESIZE)),\n",
    "        transforms.RandomHorizontalFlip(),\n",
    "        transforms.RandomRotation(30),\n",
    "        transforms.RandomAffine(degrees=30, translate=(0.1, 0.1)),\n",
    "        transforms.Grayscale(num_output_channels=3),  # Cambiado a 3 canales\n",
    "        transforms.ToTensor(),\n",
    "        transforms.Normalize((IMAGE_NORMALIZE,), (IMAGE_NORMALIZE,))\n",
    "    ]\n",
    ")\n",
    "\n",
    "transform_b = transforms.Compose(\n",
    "    [\n",
    "        transforms.Resize((IMAGE_RESIZE, IMAGE_RESIZE)),\n",
    "        transforms.Lambda(lambda img: bilateral_filter(img)),\n",
    "        transforms.Grayscale(num_output_channels=3),  # Cambiado a 3 canales\n",
    "        transforms.ToTensor(),\n",
    "        transforms.Normalize((IMAGE_NORMALIZE,), (IMAGE_NORMALIZE,))\n",
    "    ]\n",
    ")\n",
    "\n",
    "transform_b_augmented = transforms.Compose(\n",
    "    [\n",
    "        transforms.Resize((IMAGE_RESIZE, IMAGE_RESIZE)),\n",
    "        transforms.RandomHorizontalFlip(),\n",
    "        transforms.RandomRotation(30),\n",
    "        transforms.RandomAffine(degrees=30, translate=(0.1, 0.1)),\n",
    "        transforms.Lambda(lambda img: bilateral_filter(img)),\n",
    "        transforms.Grayscale(num_output_channels=3),  # Cambiado a 3 canales\n",
    "        transforms.ToTensor(),\n",
    "        transforms.Normalize((IMAGE_NORMALIZE,), (IMAGE_NORMALIZE,))\n",
    "    ]\n",
    ")\n",
    "\n",
    "transform_c = transforms.Compose(\n",
    "    [\n",
    "        transforms.Resize((IMAGE_RESIZE, IMAGE_RESIZE)),\n",
    "        transforms.Lambda(lambda img: canny_edge_filter(img)),\n",
    "        transforms.Grayscale(num_output_channels=3),  # Cambiado a 3 canales\n",
    "        transforms.ToTensor(),\n",
    "        transforms.Normalize((IMAGE_NORMALIZE,), (IMAGE_NORMALIZE,))\n",
    "    ]\n",
    ")\n",
    "\n",
    "transform_c_augmented = transforms.Compose(\n",
    "    [\n",
    "        transforms.Resize((IMAGE_RESIZE, IMAGE_RESIZE)),\n",
    "        transforms.RandomHorizontalFlip(),\n",
    "        transforms.RandomRotation(30),\n",
    "        transforms.RandomAffine(degrees=30, translate=(0.1, 0.1)),\n",
    "        transforms.Lambda(lambda img: canny_edge_filter(img)),\n",
    "        transforms.Grayscale(num_output_channels=3),  # Cambiado a 3 canales\n",
    "        transforms.ToTensor(),\n",
    "        transforms.Normalize((IMAGE_NORMALIZE,), (IMAGE_NORMALIZE,))\n",
    "    ]\n",
    ")"
   ]
  },
  {
   "cell_type": "markdown",
   "id": "335a43c8-848f-43fc-97d3-3435e67aa2ac",
   "metadata": {},
   "source": [
    "#  3. Carga de datos"
   ]
  },
  {
   "cell_type": "markdown",
   "id": "b948d71c",
   "metadata": {},
   "source": [
    "## 3.1 Dataloaders"
   ]
  },
  {
   "cell_type": "code",
   "execution_count": 7,
   "id": "f104a1de-bb3f-4010-a8dc-64393f4d4624",
   "metadata": {},
   "outputs": [
    {
     "name": "stdout",
     "output_type": "stream",
     "text": [
      "Tamaño del conjunto de entrenamiento: 502\n",
      "Tamaño del conjunto de testing: 66\n"
     ]
    }
   ],
   "source": [
    "def get_sub_data_loader(dataset, fraction_of_data=0.1):\n",
    "    dataset_size = len(dataset)\n",
    "    indices = list(range(dataset_size))\n",
    "    subset_size = int(np.floor(fraction_of_data * dataset_size))\n",
    "    np.random.shuffle(indices)\n",
    "    subset_indices = indices[:subset_size]\n",
    "    sub_dataset = Subset(dataset, subset_indices)\n",
    "    # print(f'Subset size: {len(sub_dataset)}')\n",
    "    return DataLoader(dataset=sub_dataset, batch_size=HYPERPARAMETERS[\"batch_size\"], shuffle=True)\n",
    "#-----------------------------------------------------------------------------------------------------------------------------\n",
    "\n",
    "\n",
    "# Train data\n",
    "# Raw\n",
    "train_dataset_r = datasets.ImageFolder(root=TRAIN_DATA_PATH, transform=transform_r)\n",
    "train_dataset_r_augmented = datasets.ImageFolder(root=TRAIN_DATA_PATH, transform=transform_r_augmented)\n",
    "combined_train_dataset_r = ConcatDataset([train_dataset_r, train_dataset_r_augmented])\n",
    "train_loader_r = DataLoader(dataset=combined_train_dataset_r, batch_size=HYPERPARAMETERS[\"batch_size\"], shuffle=True)\n",
    "train_sub_loader_r = get_sub_data_loader(dataset=combined_train_dataset_r)\n",
    "\n",
    "# Bilateral\n",
    "train_dataset_b = datasets.ImageFolder(root=TRAIN_DATA_PATH, transform=transform_b_augmented)\n",
    "train_dataset_b_augmented = datasets.ImageFolder(root=TRAIN_DATA_PATH, transform=transform_b_augmented)\n",
    "combined_train_dataset_b = ConcatDataset([train_dataset_b, train_dataset_b_augmented])\n",
    "train_loader_b = DataLoader(dataset=combined_train_dataset_b, batch_size=HYPERPARAMETERS[\"batch_size\"], shuffle=True)\n",
    "train_sub_loader_b = get_sub_data_loader(dataset=combined_train_dataset_b)\n",
    "\n",
    "# Canny\n",
    "train_dataset_c = datasets.ImageFolder(root=TRAIN_DATA_PATH, transform=transform_c_augmented)\n",
    "train_dataset_c_augmented = datasets.ImageFolder(root=TRAIN_DATA_PATH, transform=transform_c_augmented)\n",
    "combined_train_dataset_c = ConcatDataset([train_dataset_c, train_dataset_c_augmented])\n",
    "train_loader_c = DataLoader(dataset=combined_train_dataset_c, batch_size=HYPERPARAMETERS[\"batch_size\"], shuffle=True)\n",
    "train_sub_loader_c = get_sub_data_loader(dataset=combined_train_dataset_c)\n",
    "#-----------------------------------------------------------------------------------------------------------------------------\n",
    "\n",
    "# Test data\n",
    "# Raw\n",
    "test_dataset_r = datasets.ImageFolder(root=TEST_DATA_PATH, transform=transform_r_augmented)\n",
    "test_loader_r = DataLoader(dataset=test_dataset_r, batch_size=HYPERPARAMETERS[\"batch_size\"], shuffle=True)\n",
    "# Bilateral\n",
    "test_dataset_b = datasets.ImageFolder(root=TEST_DATA_PATH, transform=transform_b_augmented)\n",
    "test_loader_b = DataLoader(dataset=test_dataset_b, batch_size=HYPERPARAMETERS[\"batch_size\"], shuffle=True)\n",
    "# Canny\n",
    "test_dataset_c = datasets.ImageFolder(root=TEST_DATA_PATH, transform=transform_c_augmented)\n",
    "test_loader_c = DataLoader(dataset=test_dataset_c, batch_size=HYPERPARAMETERS[\"batch_size\"], shuffle=True)\n",
    "#-----------------------------------------------------------------------------------------------------------------------------\n",
    "\n",
    "\n",
    "print(f'Tamaño del conjunto de entrenamiento: {len(train_loader_r.dataset)}')\n",
    "print(f'Tamaño del conjunto de testing: {len(test_loader_r.dataset)}')"
   ]
  },
  {
   "cell_type": "markdown",
   "id": "54ccb7c0-b920-4a80-b139-c2b1f0d1cc23",
   "metadata": {},
   "source": [
    "# 4. Modelo A - ResNet50"
   ]
  },
  {
   "cell_type": "markdown",
   "id": "dd0bcdd5-1e39-488b-8f65-7bff3ed4cc7f",
   "metadata": {},
   "source": [
    "Razones de elección Resnet\n",
    "\n",
    "- **Arquitectura Profunda**: ResNet50 tiene 50 capas, lo que le permite aprender representaciones de alto nivel y características complejas sin sufrir el problema del desvanecimiento del gradiente.\n",
    "- **Conexiones Residuales**: Estas conexiones permiten que la red aprenda funciones de identidad, facilitando el entrenamiento de redes más profundas. Las conexiones residuales permiten que la información fluya más fácilmente a través de la red, lo que mejora la estabilidad del entrenamiento.\n",
    "- **Rendimiento Sólido**: Ha demostrado ser altamente efectiva en competiciones de clasificación de imágenes, como ImageNet, donde ha logrado clasificaciones superiores.\n",
    "- **Transfer Learning**: Utiliza pesos preentrenados de ImageNet, lo que ahorra tiempo y recursos, además de proporcionar un buen punto de partida para la clasificación en tareas específicas con conjuntos de datos más pequeños.\n",
    "- **Flexibilidad**: Se puede personalizar fácilmente para diferentes tareas de clasificación ajustando la capa final sin necesidad de rediseñar toda la red."
   ]
  },
  {
   "cell_type": "markdown",
   "id": "c2b1b5b6",
   "metadata": {},
   "source": [
    "## 4.1 Definición"
   ]
  },
  {
   "cell_type": "code",
   "execution_count": 8,
   "id": "955242d4-02e2-4fcd-b851-be2b548ce6f8",
   "metadata": {},
   "outputs": [],
   "source": [
    "weights = ResNet50_Weights.IMAGENET1K_V1  # Cargar los pesos preentrenados\n",
    "\n",
    "# Modelo A Raw\n",
    "model_a_r = models.resnet50(weights=weights)\n",
    "num_ftrs = model_a_r.fc.in_features\n",
    "model_a_r.fc = nn.Linear(num_ftrs, 3)  # 3 clases: Covid-19, Normal, Viral Pneumonia\n",
    "model_a_r = model_a_r.to(DEVICE)\n",
    "\n",
    "# Modelo A Bilateral\n",
    "model_a_b = models.resnet50(weights=weights)\n",
    "num_ftrs = model_a_b.fc.in_features\n",
    "model_a_b.fc = nn.Linear(num_ftrs, 3)  # 3 clases: Covid-19, Normal, Viral Pneumonia\n",
    "model_a_b = model_a_b.to(DEVICE)\n",
    "\n",
    "# Modelo A Canny\n",
    "model_a_c = models.resnet50(weights=weights)\n",
    "num_ftrs = model_a_c.fc.in_features\n",
    "model_a_c.fc = nn.Linear(num_ftrs, 3)  # 3 clases: Covid-19, Normal, Viral Pneumonia\n",
    "model_a_c = model_a_c.to(DEVICE)"
   ]
  },
  {
   "cell_type": "markdown",
   "id": "64d710a0-b2c0-4f94-83fe-754bff3c17df",
   "metadata": {},
   "source": [
    "El código comienza cargando los pesos preentrenados de **ResNet50** desde el conjunto de datos **ImageNet** utilizando `ResNet50_Weights.IMAGENET1K_V1`, lo que permite que el modelo aproveche el conocimiento adquirido previamente para reconocer características visuales. Luego, se inicializa el modelo ResNet50 con estos pesos mediante `models.resnet50(weights=weights)`. A continuación, se obtiene el número de características de la capa de salida del modelo original a través de `num_ftrs = model_a.fc.in_features`, y se reemplaza la capa final por una nueva capa lineal (`nn.Linear`) que está configurada para clasificar tres clases específicas: **Covid-19**, **Normal** y **Viral Pneumonia**. "
   ]
  },
  {
   "cell_type": "code",
   "execution_count": 9,
   "id": "6ff4a243-c88d-4f62-a202-7c6699f7ba22",
   "metadata": {},
   "outputs": [
    {
     "name": "stdout",
     "output_type": "stream",
     "text": [
      "==========================================================================================\n",
      "Layer (type:depth-idx)                   Output Shape              Param #\n",
      "==========================================================================================\n",
      "├─Conv2d: 1-1                            [-1, 64, 64, 64]          9,408\n",
      "├─BatchNorm2d: 1-2                       [-1, 64, 64, 64]          128\n",
      "├─ReLU: 1-3                              [-1, 64, 64, 64]          --\n",
      "├─MaxPool2d: 1-4                         [-1, 64, 32, 32]          --\n",
      "├─Sequential: 1-5                        [-1, 256, 32, 32]         --\n",
      "|    └─Bottleneck: 2-1                   [-1, 256, 32, 32]         --\n",
      "|    |    └─Conv2d: 3-1                  [-1, 64, 32, 32]          4,096\n",
      "|    |    └─BatchNorm2d: 3-2             [-1, 64, 32, 32]          128\n",
      "|    |    └─ReLU: 3-3                    [-1, 64, 32, 32]          --\n",
      "|    |    └─Conv2d: 3-4                  [-1, 64, 32, 32]          36,864\n",
      "|    |    └─BatchNorm2d: 3-5             [-1, 64, 32, 32]          128\n",
      "|    |    └─ReLU: 3-6                    [-1, 64, 32, 32]          --\n",
      "|    |    └─Conv2d: 3-7                  [-1, 256, 32, 32]         16,384\n",
      "|    |    └─BatchNorm2d: 3-8             [-1, 256, 32, 32]         512\n",
      "|    |    └─Sequential: 3-9              [-1, 256, 32, 32]         16,896\n",
      "|    |    └─ReLU: 3-10                   [-1, 256, 32, 32]         --\n",
      "|    └─Bottleneck: 2-2                   [-1, 256, 32, 32]         --\n",
      "|    |    └─Conv2d: 3-11                 [-1, 64, 32, 32]          16,384\n",
      "|    |    └─BatchNorm2d: 3-12            [-1, 64, 32, 32]          128\n",
      "|    |    └─ReLU: 3-13                   [-1, 64, 32, 32]          --\n",
      "|    |    └─Conv2d: 3-14                 [-1, 64, 32, 32]          36,864\n",
      "|    |    └─BatchNorm2d: 3-15            [-1, 64, 32, 32]          128\n",
      "|    |    └─ReLU: 3-16                   [-1, 64, 32, 32]          --\n",
      "|    |    └─Conv2d: 3-17                 [-1, 256, 32, 32]         16,384\n",
      "|    |    └─BatchNorm2d: 3-18            [-1, 256, 32, 32]         512\n",
      "|    |    └─ReLU: 3-19                   [-1, 256, 32, 32]         --\n",
      "|    └─Bottleneck: 2-3                   [-1, 256, 32, 32]         --\n",
      "|    |    └─Conv2d: 3-20                 [-1, 64, 32, 32]          16,384\n",
      "|    |    └─BatchNorm2d: 3-21            [-1, 64, 32, 32]          128\n",
      "|    |    └─ReLU: 3-22                   [-1, 64, 32, 32]          --\n",
      "|    |    └─Conv2d: 3-23                 [-1, 64, 32, 32]          36,864\n",
      "|    |    └─BatchNorm2d: 3-24            [-1, 64, 32, 32]          128\n",
      "|    |    └─ReLU: 3-25                   [-1, 64, 32, 32]          --\n",
      "|    |    └─Conv2d: 3-26                 [-1, 256, 32, 32]         16,384\n",
      "|    |    └─BatchNorm2d: 3-27            [-1, 256, 32, 32]         512\n",
      "|    |    └─ReLU: 3-28                   [-1, 256, 32, 32]         --\n",
      "├─Sequential: 1-6                        [-1, 512, 16, 16]         --\n",
      "|    └─Bottleneck: 2-4                   [-1, 512, 16, 16]         --\n",
      "|    |    └─Conv2d: 3-29                 [-1, 128, 32, 32]         32,768\n",
      "|    |    └─BatchNorm2d: 3-30            [-1, 128, 32, 32]         256\n",
      "|    |    └─ReLU: 3-31                   [-1, 128, 32, 32]         --\n",
      "|    |    └─Conv2d: 3-32                 [-1, 128, 16, 16]         147,456\n",
      "|    |    └─BatchNorm2d: 3-33            [-1, 128, 16, 16]         256\n",
      "|    |    └─ReLU: 3-34                   [-1, 128, 16, 16]         --\n",
      "|    |    └─Conv2d: 3-35                 [-1, 512, 16, 16]         65,536\n",
      "|    |    └─BatchNorm2d: 3-36            [-1, 512, 16, 16]         1,024\n",
      "|    |    └─Sequential: 3-37             [-1, 512, 16, 16]         132,096\n",
      "|    |    └─ReLU: 3-38                   [-1, 512, 16, 16]         --\n",
      "|    └─Bottleneck: 2-5                   [-1, 512, 16, 16]         --\n",
      "|    |    └─Conv2d: 3-39                 [-1, 128, 16, 16]         65,536\n",
      "|    |    └─BatchNorm2d: 3-40            [-1, 128, 16, 16]         256\n",
      "|    |    └─ReLU: 3-41                   [-1, 128, 16, 16]         --\n",
      "|    |    └─Conv2d: 3-42                 [-1, 128, 16, 16]         147,456\n",
      "|    |    └─BatchNorm2d: 3-43            [-1, 128, 16, 16]         256\n",
      "|    |    └─ReLU: 3-44                   [-1, 128, 16, 16]         --\n",
      "|    |    └─Conv2d: 3-45                 [-1, 512, 16, 16]         65,536\n",
      "|    |    └─BatchNorm2d: 3-46            [-1, 512, 16, 16]         1,024\n",
      "|    |    └─ReLU: 3-47                   [-1, 512, 16, 16]         --\n",
      "|    └─Bottleneck: 2-6                   [-1, 512, 16, 16]         --\n",
      "|    |    └─Conv2d: 3-48                 [-1, 128, 16, 16]         65,536\n",
      "|    |    └─BatchNorm2d: 3-49            [-1, 128, 16, 16]         256\n",
      "|    |    └─ReLU: 3-50                   [-1, 128, 16, 16]         --\n",
      "|    |    └─Conv2d: 3-51                 [-1, 128, 16, 16]         147,456\n",
      "|    |    └─BatchNorm2d: 3-52            [-1, 128, 16, 16]         256\n",
      "|    |    └─ReLU: 3-53                   [-1, 128, 16, 16]         --\n",
      "|    |    └─Conv2d: 3-54                 [-1, 512, 16, 16]         65,536\n",
      "|    |    └─BatchNorm2d: 3-55            [-1, 512, 16, 16]         1,024\n",
      "|    |    └─ReLU: 3-56                   [-1, 512, 16, 16]         --\n",
      "|    └─Bottleneck: 2-7                   [-1, 512, 16, 16]         --\n",
      "|    |    └─Conv2d: 3-57                 [-1, 128, 16, 16]         65,536\n",
      "|    |    └─BatchNorm2d: 3-58            [-1, 128, 16, 16]         256\n",
      "|    |    └─ReLU: 3-59                   [-1, 128, 16, 16]         --\n",
      "|    |    └─Conv2d: 3-60                 [-1, 128, 16, 16]         147,456\n",
      "|    |    └─BatchNorm2d: 3-61            [-1, 128, 16, 16]         256\n",
      "|    |    └─ReLU: 3-62                   [-1, 128, 16, 16]         --\n",
      "|    |    └─Conv2d: 3-63                 [-1, 512, 16, 16]         65,536\n",
      "|    |    └─BatchNorm2d: 3-64            [-1, 512, 16, 16]         1,024\n",
      "|    |    └─ReLU: 3-65                   [-1, 512, 16, 16]         --\n",
      "├─Sequential: 1-7                        [-1, 1024, 8, 8]          --\n",
      "|    └─Bottleneck: 2-8                   [-1, 1024, 8, 8]          --\n",
      "|    |    └─Conv2d: 3-66                 [-1, 256, 16, 16]         131,072\n",
      "|    |    └─BatchNorm2d: 3-67            [-1, 256, 16, 16]         512\n",
      "|    |    └─ReLU: 3-68                   [-1, 256, 16, 16]         --\n",
      "|    |    └─Conv2d: 3-69                 [-1, 256, 8, 8]           589,824\n",
      "|    |    └─BatchNorm2d: 3-70            [-1, 256, 8, 8]           512\n",
      "|    |    └─ReLU: 3-71                   [-1, 256, 8, 8]           --\n",
      "|    |    └─Conv2d: 3-72                 [-1, 1024, 8, 8]          262,144\n",
      "|    |    └─BatchNorm2d: 3-73            [-1, 1024, 8, 8]          2,048\n",
      "|    |    └─Sequential: 3-74             [-1, 1024, 8, 8]          526,336\n",
      "|    |    └─ReLU: 3-75                   [-1, 1024, 8, 8]          --\n",
      "|    └─Bottleneck: 2-9                   [-1, 1024, 8, 8]          --\n",
      "|    |    └─Conv2d: 3-76                 [-1, 256, 8, 8]           262,144\n",
      "|    |    └─BatchNorm2d: 3-77            [-1, 256, 8, 8]           512\n",
      "|    |    └─ReLU: 3-78                   [-1, 256, 8, 8]           --\n",
      "|    |    └─Conv2d: 3-79                 [-1, 256, 8, 8]           589,824\n",
      "|    |    └─BatchNorm2d: 3-80            [-1, 256, 8, 8]           512\n",
      "|    |    └─ReLU: 3-81                   [-1, 256, 8, 8]           --\n",
      "|    |    └─Conv2d: 3-82                 [-1, 1024, 8, 8]          262,144\n",
      "|    |    └─BatchNorm2d: 3-83            [-1, 1024, 8, 8]          2,048\n",
      "|    |    └─ReLU: 3-84                   [-1, 1024, 8, 8]          --\n",
      "|    └─Bottleneck: 2-10                  [-1, 1024, 8, 8]          --\n",
      "|    |    └─Conv2d: 3-85                 [-1, 256, 8, 8]           262,144\n",
      "|    |    └─BatchNorm2d: 3-86            [-1, 256, 8, 8]           512\n",
      "|    |    └─ReLU: 3-87                   [-1, 256, 8, 8]           --\n",
      "|    |    └─Conv2d: 3-88                 [-1, 256, 8, 8]           589,824\n",
      "|    |    └─BatchNorm2d: 3-89            [-1, 256, 8, 8]           512\n",
      "|    |    └─ReLU: 3-90                   [-1, 256, 8, 8]           --\n",
      "|    |    └─Conv2d: 3-91                 [-1, 1024, 8, 8]          262,144\n",
      "|    |    └─BatchNorm2d: 3-92            [-1, 1024, 8, 8]          2,048\n",
      "|    |    └─ReLU: 3-93                   [-1, 1024, 8, 8]          --\n",
      "|    └─Bottleneck: 2-11                  [-1, 1024, 8, 8]          --\n",
      "|    |    └─Conv2d: 3-94                 [-1, 256, 8, 8]           262,144\n",
      "|    |    └─BatchNorm2d: 3-95            [-1, 256, 8, 8]           512\n",
      "|    |    └─ReLU: 3-96                   [-1, 256, 8, 8]           --\n",
      "|    |    └─Conv2d: 3-97                 [-1, 256, 8, 8]           589,824\n",
      "|    |    └─BatchNorm2d: 3-98            [-1, 256, 8, 8]           512\n",
      "|    |    └─ReLU: 3-99                   [-1, 256, 8, 8]           --\n",
      "|    |    └─Conv2d: 3-100                [-1, 1024, 8, 8]          262,144\n",
      "|    |    └─BatchNorm2d: 3-101           [-1, 1024, 8, 8]          2,048\n",
      "|    |    └─ReLU: 3-102                  [-1, 1024, 8, 8]          --\n",
      "|    └─Bottleneck: 2-12                  [-1, 1024, 8, 8]          --\n",
      "|    |    └─Conv2d: 3-103                [-1, 256, 8, 8]           262,144\n",
      "|    |    └─BatchNorm2d: 3-104           [-1, 256, 8, 8]           512\n",
      "|    |    └─ReLU: 3-105                  [-1, 256, 8, 8]           --\n",
      "|    |    └─Conv2d: 3-106                [-1, 256, 8, 8]           589,824\n",
      "|    |    └─BatchNorm2d: 3-107           [-1, 256, 8, 8]           512\n",
      "|    |    └─ReLU: 3-108                  [-1, 256, 8, 8]           --\n",
      "|    |    └─Conv2d: 3-109                [-1, 1024, 8, 8]          262,144\n",
      "|    |    └─BatchNorm2d: 3-110           [-1, 1024, 8, 8]          2,048\n",
      "|    |    └─ReLU: 3-111                  [-1, 1024, 8, 8]          --\n",
      "|    └─Bottleneck: 2-13                  [-1, 1024, 8, 8]          --\n",
      "|    |    └─Conv2d: 3-112                [-1, 256, 8, 8]           262,144\n",
      "|    |    └─BatchNorm2d: 3-113           [-1, 256, 8, 8]           512\n",
      "|    |    └─ReLU: 3-114                  [-1, 256, 8, 8]           --\n",
      "|    |    └─Conv2d: 3-115                [-1, 256, 8, 8]           589,824\n",
      "|    |    └─BatchNorm2d: 3-116           [-1, 256, 8, 8]           512\n",
      "|    |    └─ReLU: 3-117                  [-1, 256, 8, 8]           --\n",
      "|    |    └─Conv2d: 3-118                [-1, 1024, 8, 8]          262,144\n",
      "|    |    └─BatchNorm2d: 3-119           [-1, 1024, 8, 8]          2,048\n",
      "|    |    └─ReLU: 3-120                  [-1, 1024, 8, 8]          --\n",
      "├─Sequential: 1-8                        [-1, 2048, 4, 4]          --\n",
      "|    └─Bottleneck: 2-14                  [-1, 2048, 4, 4]          --\n",
      "|    |    └─Conv2d: 3-121                [-1, 512, 8, 8]           524,288\n",
      "|    |    └─BatchNorm2d: 3-122           [-1, 512, 8, 8]           1,024\n",
      "|    |    └─ReLU: 3-123                  [-1, 512, 8, 8]           --\n",
      "|    |    └─Conv2d: 3-124                [-1, 512, 4, 4]           2,359,296\n",
      "|    |    └─BatchNorm2d: 3-125           [-1, 512, 4, 4]           1,024\n",
      "|    |    └─ReLU: 3-126                  [-1, 512, 4, 4]           --\n",
      "|    |    └─Conv2d: 3-127                [-1, 2048, 4, 4]          1,048,576\n",
      "|    |    └─BatchNorm2d: 3-128           [-1, 2048, 4, 4]          4,096\n",
      "|    |    └─Sequential: 3-129            [-1, 2048, 4, 4]          2,101,248\n",
      "|    |    └─ReLU: 3-130                  [-1, 2048, 4, 4]          --\n",
      "|    └─Bottleneck: 2-15                  [-1, 2048, 4, 4]          --\n",
      "|    |    └─Conv2d: 3-131                [-1, 512, 4, 4]           1,048,576\n",
      "|    |    └─BatchNorm2d: 3-132           [-1, 512, 4, 4]           1,024\n",
      "|    |    └─ReLU: 3-133                  [-1, 512, 4, 4]           --\n",
      "|    |    └─Conv2d: 3-134                [-1, 512, 4, 4]           2,359,296\n",
      "|    |    └─BatchNorm2d: 3-135           [-1, 512, 4, 4]           1,024\n",
      "|    |    └─ReLU: 3-136                  [-1, 512, 4, 4]           --\n",
      "|    |    └─Conv2d: 3-137                [-1, 2048, 4, 4]          1,048,576\n",
      "|    |    └─BatchNorm2d: 3-138           [-1, 2048, 4, 4]          4,096\n",
      "|    |    └─ReLU: 3-139                  [-1, 2048, 4, 4]          --\n",
      "|    └─Bottleneck: 2-16                  [-1, 2048, 4, 4]          --\n",
      "|    |    └─Conv2d: 3-140                [-1, 512, 4, 4]           1,048,576\n",
      "|    |    └─BatchNorm2d: 3-141           [-1, 512, 4, 4]           1,024\n",
      "|    |    └─ReLU: 3-142                  [-1, 512, 4, 4]           --\n",
      "|    |    └─Conv2d: 3-143                [-1, 512, 4, 4]           2,359,296\n",
      "|    |    └─BatchNorm2d: 3-144           [-1, 512, 4, 4]           1,024\n",
      "|    |    └─ReLU: 3-145                  [-1, 512, 4, 4]           --\n",
      "|    |    └─Conv2d: 3-146                [-1, 2048, 4, 4]          1,048,576\n",
      "|    |    └─BatchNorm2d: 3-147           [-1, 2048, 4, 4]          4,096\n",
      "|    |    └─ReLU: 3-148                  [-1, 2048, 4, 4]          --\n",
      "├─AdaptiveAvgPool2d: 1-9                 [-1, 2048, 1, 1]          --\n",
      "├─Linear: 1-10                           [-1, 3]                   6,147\n",
      "==========================================================================================\n",
      "Total params: 23,514,179\n",
      "Trainable params: 23,514,179\n",
      "Non-trainable params: 0\n",
      "Total mult-adds (G): 1.38\n",
      "==========================================================================================\n",
      "Input size (MB): 0.19\n",
      "Forward/backward pass size (MB): 55.38\n",
      "Params size (MB): 89.70\n",
      "Estimated Total Size (MB): 145.26\n",
      "==========================================================================================\n"
     ]
    },
    {
     "data": {
      "text/plain": [
       "==========================================================================================\n",
       "Layer (type:depth-idx)                   Output Shape              Param #\n",
       "==========================================================================================\n",
       "├─Conv2d: 1-1                            [-1, 64, 64, 64]          9,408\n",
       "├─BatchNorm2d: 1-2                       [-1, 64, 64, 64]          128\n",
       "├─ReLU: 1-3                              [-1, 64, 64, 64]          --\n",
       "├─MaxPool2d: 1-4                         [-1, 64, 32, 32]          --\n",
       "├─Sequential: 1-5                        [-1, 256, 32, 32]         --\n",
       "|    └─Bottleneck: 2-1                   [-1, 256, 32, 32]         --\n",
       "|    |    └─Conv2d: 3-1                  [-1, 64, 32, 32]          4,096\n",
       "|    |    └─BatchNorm2d: 3-2             [-1, 64, 32, 32]          128\n",
       "|    |    └─ReLU: 3-3                    [-1, 64, 32, 32]          --\n",
       "|    |    └─Conv2d: 3-4                  [-1, 64, 32, 32]          36,864\n",
       "|    |    └─BatchNorm2d: 3-5             [-1, 64, 32, 32]          128\n",
       "|    |    └─ReLU: 3-6                    [-1, 64, 32, 32]          --\n",
       "|    |    └─Conv2d: 3-7                  [-1, 256, 32, 32]         16,384\n",
       "|    |    └─BatchNorm2d: 3-8             [-1, 256, 32, 32]         512\n",
       "|    |    └─Sequential: 3-9              [-1, 256, 32, 32]         16,896\n",
       "|    |    └─ReLU: 3-10                   [-1, 256, 32, 32]         --\n",
       "|    └─Bottleneck: 2-2                   [-1, 256, 32, 32]         --\n",
       "|    |    └─Conv2d: 3-11                 [-1, 64, 32, 32]          16,384\n",
       "|    |    └─BatchNorm2d: 3-12            [-1, 64, 32, 32]          128\n",
       "|    |    └─ReLU: 3-13                   [-1, 64, 32, 32]          --\n",
       "|    |    └─Conv2d: 3-14                 [-1, 64, 32, 32]          36,864\n",
       "|    |    └─BatchNorm2d: 3-15            [-1, 64, 32, 32]          128\n",
       "|    |    └─ReLU: 3-16                   [-1, 64, 32, 32]          --\n",
       "|    |    └─Conv2d: 3-17                 [-1, 256, 32, 32]         16,384\n",
       "|    |    └─BatchNorm2d: 3-18            [-1, 256, 32, 32]         512\n",
       "|    |    └─ReLU: 3-19                   [-1, 256, 32, 32]         --\n",
       "|    └─Bottleneck: 2-3                   [-1, 256, 32, 32]         --\n",
       "|    |    └─Conv2d: 3-20                 [-1, 64, 32, 32]          16,384\n",
       "|    |    └─BatchNorm2d: 3-21            [-1, 64, 32, 32]          128\n",
       "|    |    └─ReLU: 3-22                   [-1, 64, 32, 32]          --\n",
       "|    |    └─Conv2d: 3-23                 [-1, 64, 32, 32]          36,864\n",
       "|    |    └─BatchNorm2d: 3-24            [-1, 64, 32, 32]          128\n",
       "|    |    └─ReLU: 3-25                   [-1, 64, 32, 32]          --\n",
       "|    |    └─Conv2d: 3-26                 [-1, 256, 32, 32]         16,384\n",
       "|    |    └─BatchNorm2d: 3-27            [-1, 256, 32, 32]         512\n",
       "|    |    └─ReLU: 3-28                   [-1, 256, 32, 32]         --\n",
       "├─Sequential: 1-6                        [-1, 512, 16, 16]         --\n",
       "|    └─Bottleneck: 2-4                   [-1, 512, 16, 16]         --\n",
       "|    |    └─Conv2d: 3-29                 [-1, 128, 32, 32]         32,768\n",
       "|    |    └─BatchNorm2d: 3-30            [-1, 128, 32, 32]         256\n",
       "|    |    └─ReLU: 3-31                   [-1, 128, 32, 32]         --\n",
       "|    |    └─Conv2d: 3-32                 [-1, 128, 16, 16]         147,456\n",
       "|    |    └─BatchNorm2d: 3-33            [-1, 128, 16, 16]         256\n",
       "|    |    └─ReLU: 3-34                   [-1, 128, 16, 16]         --\n",
       "|    |    └─Conv2d: 3-35                 [-1, 512, 16, 16]         65,536\n",
       "|    |    └─BatchNorm2d: 3-36            [-1, 512, 16, 16]         1,024\n",
       "|    |    └─Sequential: 3-37             [-1, 512, 16, 16]         132,096\n",
       "|    |    └─ReLU: 3-38                   [-1, 512, 16, 16]         --\n",
       "|    └─Bottleneck: 2-5                   [-1, 512, 16, 16]         --\n",
       "|    |    └─Conv2d: 3-39                 [-1, 128, 16, 16]         65,536\n",
       "|    |    └─BatchNorm2d: 3-40            [-1, 128, 16, 16]         256\n",
       "|    |    └─ReLU: 3-41                   [-1, 128, 16, 16]         --\n",
       "|    |    └─Conv2d: 3-42                 [-1, 128, 16, 16]         147,456\n",
       "|    |    └─BatchNorm2d: 3-43            [-1, 128, 16, 16]         256\n",
       "|    |    └─ReLU: 3-44                   [-1, 128, 16, 16]         --\n",
       "|    |    └─Conv2d: 3-45                 [-1, 512, 16, 16]         65,536\n",
       "|    |    └─BatchNorm2d: 3-46            [-1, 512, 16, 16]         1,024\n",
       "|    |    └─ReLU: 3-47                   [-1, 512, 16, 16]         --\n",
       "|    └─Bottleneck: 2-6                   [-1, 512, 16, 16]         --\n",
       "|    |    └─Conv2d: 3-48                 [-1, 128, 16, 16]         65,536\n",
       "|    |    └─BatchNorm2d: 3-49            [-1, 128, 16, 16]         256\n",
       "|    |    └─ReLU: 3-50                   [-1, 128, 16, 16]         --\n",
       "|    |    └─Conv2d: 3-51                 [-1, 128, 16, 16]         147,456\n",
       "|    |    └─BatchNorm2d: 3-52            [-1, 128, 16, 16]         256\n",
       "|    |    └─ReLU: 3-53                   [-1, 128, 16, 16]         --\n",
       "|    |    └─Conv2d: 3-54                 [-1, 512, 16, 16]         65,536\n",
       "|    |    └─BatchNorm2d: 3-55            [-1, 512, 16, 16]         1,024\n",
       "|    |    └─ReLU: 3-56                   [-1, 512, 16, 16]         --\n",
       "|    └─Bottleneck: 2-7                   [-1, 512, 16, 16]         --\n",
       "|    |    └─Conv2d: 3-57                 [-1, 128, 16, 16]         65,536\n",
       "|    |    └─BatchNorm2d: 3-58            [-1, 128, 16, 16]         256\n",
       "|    |    └─ReLU: 3-59                   [-1, 128, 16, 16]         --\n",
       "|    |    └─Conv2d: 3-60                 [-1, 128, 16, 16]         147,456\n",
       "|    |    └─BatchNorm2d: 3-61            [-1, 128, 16, 16]         256\n",
       "|    |    └─ReLU: 3-62                   [-1, 128, 16, 16]         --\n",
       "|    |    └─Conv2d: 3-63                 [-1, 512, 16, 16]         65,536\n",
       "|    |    └─BatchNorm2d: 3-64            [-1, 512, 16, 16]         1,024\n",
       "|    |    └─ReLU: 3-65                   [-1, 512, 16, 16]         --\n",
       "├─Sequential: 1-7                        [-1, 1024, 8, 8]          --\n",
       "|    └─Bottleneck: 2-8                   [-1, 1024, 8, 8]          --\n",
       "|    |    └─Conv2d: 3-66                 [-1, 256, 16, 16]         131,072\n",
       "|    |    └─BatchNorm2d: 3-67            [-1, 256, 16, 16]         512\n",
       "|    |    └─ReLU: 3-68                   [-1, 256, 16, 16]         --\n",
       "|    |    └─Conv2d: 3-69                 [-1, 256, 8, 8]           589,824\n",
       "|    |    └─BatchNorm2d: 3-70            [-1, 256, 8, 8]           512\n",
       "|    |    └─ReLU: 3-71                   [-1, 256, 8, 8]           --\n",
       "|    |    └─Conv2d: 3-72                 [-1, 1024, 8, 8]          262,144\n",
       "|    |    └─BatchNorm2d: 3-73            [-1, 1024, 8, 8]          2,048\n",
       "|    |    └─Sequential: 3-74             [-1, 1024, 8, 8]          526,336\n",
       "|    |    └─ReLU: 3-75                   [-1, 1024, 8, 8]          --\n",
       "|    └─Bottleneck: 2-9                   [-1, 1024, 8, 8]          --\n",
       "|    |    └─Conv2d: 3-76                 [-1, 256, 8, 8]           262,144\n",
       "|    |    └─BatchNorm2d: 3-77            [-1, 256, 8, 8]           512\n",
       "|    |    └─ReLU: 3-78                   [-1, 256, 8, 8]           --\n",
       "|    |    └─Conv2d: 3-79                 [-1, 256, 8, 8]           589,824\n",
       "|    |    └─BatchNorm2d: 3-80            [-1, 256, 8, 8]           512\n",
       "|    |    └─ReLU: 3-81                   [-1, 256, 8, 8]           --\n",
       "|    |    └─Conv2d: 3-82                 [-1, 1024, 8, 8]          262,144\n",
       "|    |    └─BatchNorm2d: 3-83            [-1, 1024, 8, 8]          2,048\n",
       "|    |    └─ReLU: 3-84                   [-1, 1024, 8, 8]          --\n",
       "|    └─Bottleneck: 2-10                  [-1, 1024, 8, 8]          --\n",
       "|    |    └─Conv2d: 3-85                 [-1, 256, 8, 8]           262,144\n",
       "|    |    └─BatchNorm2d: 3-86            [-1, 256, 8, 8]           512\n",
       "|    |    └─ReLU: 3-87                   [-1, 256, 8, 8]           --\n",
       "|    |    └─Conv2d: 3-88                 [-1, 256, 8, 8]           589,824\n",
       "|    |    └─BatchNorm2d: 3-89            [-1, 256, 8, 8]           512\n",
       "|    |    └─ReLU: 3-90                   [-1, 256, 8, 8]           --\n",
       "|    |    └─Conv2d: 3-91                 [-1, 1024, 8, 8]          262,144\n",
       "|    |    └─BatchNorm2d: 3-92            [-1, 1024, 8, 8]          2,048\n",
       "|    |    └─ReLU: 3-93                   [-1, 1024, 8, 8]          --\n",
       "|    └─Bottleneck: 2-11                  [-1, 1024, 8, 8]          --\n",
       "|    |    └─Conv2d: 3-94                 [-1, 256, 8, 8]           262,144\n",
       "|    |    └─BatchNorm2d: 3-95            [-1, 256, 8, 8]           512\n",
       "|    |    └─ReLU: 3-96                   [-1, 256, 8, 8]           --\n",
       "|    |    └─Conv2d: 3-97                 [-1, 256, 8, 8]           589,824\n",
       "|    |    └─BatchNorm2d: 3-98            [-1, 256, 8, 8]           512\n",
       "|    |    └─ReLU: 3-99                   [-1, 256, 8, 8]           --\n",
       "|    |    └─Conv2d: 3-100                [-1, 1024, 8, 8]          262,144\n",
       "|    |    └─BatchNorm2d: 3-101           [-1, 1024, 8, 8]          2,048\n",
       "|    |    └─ReLU: 3-102                  [-1, 1024, 8, 8]          --\n",
       "|    └─Bottleneck: 2-12                  [-1, 1024, 8, 8]          --\n",
       "|    |    └─Conv2d: 3-103                [-1, 256, 8, 8]           262,144\n",
       "|    |    └─BatchNorm2d: 3-104           [-1, 256, 8, 8]           512\n",
       "|    |    └─ReLU: 3-105                  [-1, 256, 8, 8]           --\n",
       "|    |    └─Conv2d: 3-106                [-1, 256, 8, 8]           589,824\n",
       "|    |    └─BatchNorm2d: 3-107           [-1, 256, 8, 8]           512\n",
       "|    |    └─ReLU: 3-108                  [-1, 256, 8, 8]           --\n",
       "|    |    └─Conv2d: 3-109                [-1, 1024, 8, 8]          262,144\n",
       "|    |    └─BatchNorm2d: 3-110           [-1, 1024, 8, 8]          2,048\n",
       "|    |    └─ReLU: 3-111                  [-1, 1024, 8, 8]          --\n",
       "|    └─Bottleneck: 2-13                  [-1, 1024, 8, 8]          --\n",
       "|    |    └─Conv2d: 3-112                [-1, 256, 8, 8]           262,144\n",
       "|    |    └─BatchNorm2d: 3-113           [-1, 256, 8, 8]           512\n",
       "|    |    └─ReLU: 3-114                  [-1, 256, 8, 8]           --\n",
       "|    |    └─Conv2d: 3-115                [-1, 256, 8, 8]           589,824\n",
       "|    |    └─BatchNorm2d: 3-116           [-1, 256, 8, 8]           512\n",
       "|    |    └─ReLU: 3-117                  [-1, 256, 8, 8]           --\n",
       "|    |    └─Conv2d: 3-118                [-1, 1024, 8, 8]          262,144\n",
       "|    |    └─BatchNorm2d: 3-119           [-1, 1024, 8, 8]          2,048\n",
       "|    |    └─ReLU: 3-120                  [-1, 1024, 8, 8]          --\n",
       "├─Sequential: 1-8                        [-1, 2048, 4, 4]          --\n",
       "|    └─Bottleneck: 2-14                  [-1, 2048, 4, 4]          --\n",
       "|    |    └─Conv2d: 3-121                [-1, 512, 8, 8]           524,288\n",
       "|    |    └─BatchNorm2d: 3-122           [-1, 512, 8, 8]           1,024\n",
       "|    |    └─ReLU: 3-123                  [-1, 512, 8, 8]           --\n",
       "|    |    └─Conv2d: 3-124                [-1, 512, 4, 4]           2,359,296\n",
       "|    |    └─BatchNorm2d: 3-125           [-1, 512, 4, 4]           1,024\n",
       "|    |    └─ReLU: 3-126                  [-1, 512, 4, 4]           --\n",
       "|    |    └─Conv2d: 3-127                [-1, 2048, 4, 4]          1,048,576\n",
       "|    |    └─BatchNorm2d: 3-128           [-1, 2048, 4, 4]          4,096\n",
       "|    |    └─Sequential: 3-129            [-1, 2048, 4, 4]          2,101,248\n",
       "|    |    └─ReLU: 3-130                  [-1, 2048, 4, 4]          --\n",
       "|    └─Bottleneck: 2-15                  [-1, 2048, 4, 4]          --\n",
       "|    |    └─Conv2d: 3-131                [-1, 512, 4, 4]           1,048,576\n",
       "|    |    └─BatchNorm2d: 3-132           [-1, 512, 4, 4]           1,024\n",
       "|    |    └─ReLU: 3-133                  [-1, 512, 4, 4]           --\n",
       "|    |    └─Conv2d: 3-134                [-1, 512, 4, 4]           2,359,296\n",
       "|    |    └─BatchNorm2d: 3-135           [-1, 512, 4, 4]           1,024\n",
       "|    |    └─ReLU: 3-136                  [-1, 512, 4, 4]           --\n",
       "|    |    └─Conv2d: 3-137                [-1, 2048, 4, 4]          1,048,576\n",
       "|    |    └─BatchNorm2d: 3-138           [-1, 2048, 4, 4]          4,096\n",
       "|    |    └─ReLU: 3-139                  [-1, 2048, 4, 4]          --\n",
       "|    └─Bottleneck: 2-16                  [-1, 2048, 4, 4]          --\n",
       "|    |    └─Conv2d: 3-140                [-1, 512, 4, 4]           1,048,576\n",
       "|    |    └─BatchNorm2d: 3-141           [-1, 512, 4, 4]           1,024\n",
       "|    |    └─ReLU: 3-142                  [-1, 512, 4, 4]           --\n",
       "|    |    └─Conv2d: 3-143                [-1, 512, 4, 4]           2,359,296\n",
       "|    |    └─BatchNorm2d: 3-144           [-1, 512, 4, 4]           1,024\n",
       "|    |    └─ReLU: 3-145                  [-1, 512, 4, 4]           --\n",
       "|    |    └─Conv2d: 3-146                [-1, 2048, 4, 4]          1,048,576\n",
       "|    |    └─BatchNorm2d: 3-147           [-1, 2048, 4, 4]          4,096\n",
       "|    |    └─ReLU: 3-148                  [-1, 2048, 4, 4]          --\n",
       "├─AdaptiveAvgPool2d: 1-9                 [-1, 2048, 1, 1]          --\n",
       "├─Linear: 1-10                           [-1, 3]                   6,147\n",
       "==========================================================================================\n",
       "Total params: 23,514,179\n",
       "Trainable params: 23,514,179\n",
       "Non-trainable params: 0\n",
       "Total mult-adds (G): 1.38\n",
       "==========================================================================================\n",
       "Input size (MB): 0.19\n",
       "Forward/backward pass size (MB): 55.38\n",
       "Params size (MB): 89.70\n",
       "Estimated Total Size (MB): 145.26\n",
       "=========================================================================================="
      ]
     },
     "execution_count": 9,
     "metadata": {},
     "output_type": "execute_result"
    }
   ],
   "source": [
    "summary(model_a_r, (3, IMAGE_RESIZE, IMAGE_RESIZE))"
   ]
  },
  {
   "cell_type": "markdown",
   "id": "7ca636fb",
   "metadata": {},
   "source": [
    "## 4.2 Visualización"
   ]
  },
  {
   "cell_type": "code",
   "execution_count": 10,
   "id": "22f10ac4-c0bc-4063-84e1-0329f784da14",
   "metadata": {},
   "outputs": [
    {
     "name": "stderr",
     "output_type": "stream",
     "text": [
      "dot: graph is too large for cairo-renderer bitmaps. Scaling by 0.721041 to fit\n"
     ]
    },
    {
     "data": {
      "text/plain": [
       "'visualization\\\\Model_A_graphs\\\\model_a_graph.pdf'"
      ]
     },
     "execution_count": 10,
     "metadata": {},
     "output_type": "execute_result"
    }
   ],
   "source": [
    "x = torch.randn(1, 3, 128, 128).to(device=DEVICE)  # Tensor de ejemplo\n",
    "y = model_a_r(x)\n",
    "\n",
    "dot = make_dot(y, params=dict(list(model_a_r.named_parameters())))\n",
    "dot.attr(dpi='300')\n",
    "file_name = 'model_a_graph'\n",
    "directory = os.path.join(VISUALIZATION_DIR, MODEL_A_GRAPHS_DIR)\n",
    "dot.render(filename=file_name, directory=directory, format=\"png\") \n",
    "dot.view()"
   ]
  },
  {
   "cell_type": "markdown",
   "id": "827f836b-ca18-4043-82a1-a7395f2aaf74",
   "metadata": {},
   "source": [
    "##  4.3 Funcion de entrenamiento y registro en W&B"
   ]
  },
  {
   "cell_type": "code",
   "execution_count": 11,
   "id": "b2d6c6f3-03c5-4328-a42c-bd7825fc3b34",
   "metadata": {},
   "outputs": [],
   "source": [
    "def train(model, train_data_loader, model_name):\n",
    "    criterion = nn.CrossEntropyLoss()\n",
    "    initial_wandb_learning_rate = wandb.config.learning_rate # Guardar el learning rate inicial\n",
    "    optimizer = optim.Adam(model.parameters(), lr=wandb.config.learning_rate)\n",
    "    scheduler = ReduceLROnPlateau(optimizer, mode='min', factor=0.5, patience=2, verbose=True)\n",
    "\n",
    "    for epoch in range(wandb.config.epochs):\n",
    "        model.train()  # Modo de entrenamiento\n",
    "\n",
    "        accumulated_epoch_loss = 0\n",
    "        epoch_correct_predictions = 0\n",
    "        epoch_total_samples = 0\n",
    "\n",
    "        # Iteramos sobre los datos\n",
    "        for images, labels in train_data_loader:\n",
    "            images = images.to(device)\n",
    "            labels = labels.to(device)\n",
    "\n",
    "            # Limpiar gradientes: Se restablecen los gradientes acumulados en el optimizador a cero para evitar que se sumen a los gradientes del lote actual.\n",
    "            optimizer.zero_grad()\n",
    "\n",
    "            # Forward: Se pasan las imágenes a través del modelo para obtener las predicciones (model_predictions).\n",
    "            model_predictions = model(images)\n",
    "\n",
    "            # Cálculo de la pérdida: Se calcula la pérdida utilizando la función de pérdida definida anteriormente,\n",
    "            # comparando las predicciones (model_predictions) con las etiquetas verdaderas (labels).\n",
    "            batch_loss = criterion(model_predictions, labels)\n",
    "\n",
    "            # Sumar la pérdida de este lote a la pérdida total de la época\n",
    "            accumulated_epoch_loss += batch_loss.item()\n",
    "\n",
    "            _, predicted = torch.max(model_predictions, 1)  # Obtener las predicciones con el mayor valor (clase más probable)\n",
    "            batch_correct_predictions = (predicted == labels).sum().item()    # Contar cuántas predicciones son correctas\n",
    "            total_samples = labels.size(0)                          # Total de elementos en el batch\n",
    "\n",
    "            epoch_correct_predictions += batch_correct_predictions\n",
    "            epoch_total_samples += total_samples\n",
    "\n",
    "            # Backward pass: Se realiza la propagación hacia atrás para calcular los gradientes de la pérdida con respecto a los parámetros del modelo.\n",
    "            batch_loss.backward()\n",
    "\n",
    "            # Actualizar parámetros: Se actualizan los parámetros del modelo utilizando los gradientes calculados en la etapa anterior.\n",
    "            optimizer.step()\n",
    "\n",
    "        # Cálculo de la accuracy promedio de la época\n",
    "        epoch_loss = accumulated_epoch_loss / len(train_data_loader)\n",
    "        epoch_accuracy = 100 * epoch_correct_predictions / epoch_total_samples\n",
    "\n",
    "        # Imprimir pérdida promedio y accuracy por época, así como el LR\n",
    "        current_lr = optimizer.param_groups[0]['lr']    # Obtener el learning rate actual\n",
    "        print(f'Epoch [{epoch + 1}/{wandb.config.epochs}], Loss: {epoch_loss:.4f}, Accuracy: {epoch_accuracy:.2f}%, Learning Rate: {current_lr:.6f}')\n",
    "\n",
    "        # WandB\n",
    "        wandb.config.update({\"learning_rate\": current_lr})\n",
    "        wandb.log({\"epoch\": epoch, \"loss\": epoch_loss, \"accuracy\": epoch_accuracy, \"model\": model_name}, commit=True)\n",
    "\n",
    "        scheduler.step(epoch_loss)\n",
    "    \n",
    "    # Restaurar el valor inicial de learning rate después del entrenamiento\n",
    "    wandb.config.update({\"learning_rate\": initial_wandb_learning_rate})"
   ]
  },
  {
   "cell_type": "markdown",
   "id": "a69ad74d",
   "metadata": {},
   "source": [
    "## 4.4 Funcion de evaluación"
   ]
  },
  {
   "cell_type": "code",
   "execution_count": 12,
   "id": "7530a420",
   "metadata": {},
   "outputs": [],
   "source": [
    "def make_wandb_project(\n",
    "        project_name: str,\n",
    "        model_name: str,\n",
    "        hyperparameters: dict,\n",
    "        model,\n",
    "        print_msg: str,\n",
    "        data_loader: DataLoader,\n",
    "        wandb_watch_log = \"all\"):\n",
    "    \n",
    "    wandb.init(project=project_name, name=model_name)\n",
    "    wandb.config.update(hyperparameters)\n",
    "    wandb.watch(model, log=wandb_watch_log)\n",
    "    print(print_msg)\n",
    "    train(model=model, train_data_loader=data_loader, model_name=model)\n",
    "    print()\n",
    "    wandb.unwatch(model)\n",
    "    wandb.finish()\n",
    "\n",
    "def evaluate_model(model, test_data_loader):\n",
    "    correct = 0\n",
    "    total = 0\n",
    "\n",
    "    with torch.no_grad():\n",
    "\n",
    "        for images, labels in test_data_loader:\n",
    "            \n",
    "            # Mueve las imágenes y las etiquetas al dispositivo correspondiente\n",
    "            images, labels = images.to(DEVICE), labels.to(DEVICE)\n",
    "\n",
    "            model_predictions = model(images)\n",
    "            _, predicted = torch.max(model_predictions.data, 1)\n",
    "            total += labels.size(0)\n",
    "            correct += (predicted == labels).sum().item()\n",
    "\n",
    "    print(f'Accuracy of the model on the test images: {100 * correct / total:.2f}%')\n",
    "\n",
    "\n",
    "def get_predictions(model, data_loader):\n",
    "    model.eval()\n",
    "    all_preds = []\n",
    "    all_labels = []\n",
    "    \n",
    "    with torch.no_grad():\n",
    "        for inputs, labels in data_loader:\n",
    "\n",
    "            # Mueve las imágenes y las etiquetas al dispositivo correspondiente\n",
    "            inputs, labels = inputs.to(DEVICE), labels.to(DEVICE)\n",
    "\n",
    "            outputs = model(inputs)\n",
    "            _, preds = torch.max(outputs, 1)\n",
    "            all_preds.extend(preds.cpu().numpy())\n",
    "            all_labels.extend(labels.cpu().numpy())\n",
    "    \n",
    "    return np.array(all_labels), np.array(all_preds)\n",
    "\n",
    "\n",
    "def plot_confusion_matrix(y_true, y_pred, class_names):\n",
    "    cm = confusion_matrix(y_true, y_pred)\n",
    "    disp = ConfusionMatrixDisplay(confusion_matrix=cm, display_labels=class_names)\n",
    "    \n",
    "    disp.plot(cmap=plt.cm.Blues)\n",
    "    plt.title('Confusion matrix')\n",
    "    plt.show()"
   ]
  },
  {
   "cell_type": "markdown",
   "id": "f147d7b3-40dd-4f28-a685-335bb06be212",
   "metadata": {},
   "source": [
    "##  4.5 Entrenamiento con los diferentes datasets"
   ]
  },
  {
   "cell_type": "code",
   "execution_count": 13,
   "id": "08176efe-76f7-412f-bad8-577f876645b0",
   "metadata": {},
   "outputs": [
    {
     "data": {
      "text/html": [
       "Tracking run with wandb version 0.18.6"
      ],
      "text/plain": [
       "<IPython.core.display.HTML object>"
      ]
     },
     "metadata": {},
     "output_type": "display_data"
    },
    {
     "data": {
      "text/html": [
       "Run data is saved locally in <code>d:\\D\\TEC\\2024\\S2\\IA\\Repos\\Proyecto_2\\IC6200_AI_P2\\src\\wandb\\run-20241115_130913-9os15jg8</code>"
      ],
      "text/plain": [
       "<IPython.core.display.HTML object>"
      ]
     },
     "metadata": {},
     "output_type": "display_data"
    },
    {
     "data": {
      "text/html": [
       "Syncing run <strong><a href='https://wandb.ai/alejandro-campos-technological-institute-of-costa-rica/project_a_r/runs/9os15jg8' target=\"_blank\">model_a_r</a></strong> to <a href='https://wandb.ai/alejandro-campos-technological-institute-of-costa-rica/project_a_r' target=\"_blank\">Weights & Biases</a> (<a href='https://wandb.me/developer-guide' target=\"_blank\">docs</a>)<br/>"
      ],
      "text/plain": [
       "<IPython.core.display.HTML object>"
      ]
     },
     "metadata": {},
     "output_type": "display_data"
    },
    {
     "data": {
      "text/html": [
       " View project at <a href='https://wandb.ai/alejandro-campos-technological-institute-of-costa-rica/project_a_r' target=\"_blank\">https://wandb.ai/alejandro-campos-technological-institute-of-costa-rica/project_a_r</a>"
      ],
      "text/plain": [
       "<IPython.core.display.HTML object>"
      ]
     },
     "metadata": {},
     "output_type": "display_data"
    },
    {
     "data": {
      "text/html": [
       " View run at <a href='https://wandb.ai/alejandro-campos-technological-institute-of-costa-rica/project_a_r/runs/9os15jg8' target=\"_blank\">https://wandb.ai/alejandro-campos-technological-institute-of-costa-rica/project_a_r/runs/9os15jg8</a>"
      ],
      "text/plain": [
       "<IPython.core.display.HTML object>"
      ]
     },
     "metadata": {},
     "output_type": "display_data"
    },
    {
     "name": "stdout",
     "output_type": "stream",
     "text": [
      "Training model A Raw\n"
     ]
    },
    {
     "name": "stderr",
     "output_type": "stream",
     "text": [
      "c:\\Users\\aleja\\.conda\\envs\\env_IC6200_AI_P2_pytorch\\lib\\site-packages\\torch\\optim\\lr_scheduler.py:60: UserWarning: The verbose parameter is deprecated. Please use get_last_lr() to access the learning rate.\n",
      "  warnings.warn(\n"
     ]
    },
    {
     "name": "stdout",
     "output_type": "stream",
     "text": [
      "Epoch [1/20], Loss: 0.7081, Accuracy: 75.30%, Learning Rate: 0.001000\n",
      "Epoch [2/20], Loss: 0.2676, Accuracy: 89.64%, Learning Rate: 0.001000\n",
      "Epoch [3/20], Loss: 0.1837, Accuracy: 92.83%, Learning Rate: 0.001000\n",
      "Epoch [4/20], Loss: 0.1394, Accuracy: 95.22%, Learning Rate: 0.001000\n",
      "Epoch [5/20], Loss: 0.1700, Accuracy: 93.43%, Learning Rate: 0.001000\n",
      "Epoch [6/20], Loss: 0.1865, Accuracy: 93.63%, Learning Rate: 0.001000\n",
      "Epoch [7/20], Loss: 0.2293, Accuracy: 93.63%, Learning Rate: 0.001000\n",
      "Epoch [8/20], Loss: 0.2152, Accuracy: 93.43%, Learning Rate: 0.000500\n",
      "Epoch [9/20], Loss: 0.1459, Accuracy: 96.22%, Learning Rate: 0.000500\n",
      "Epoch [10/20], Loss: 0.0653, Accuracy: 97.21%, Learning Rate: 0.000500\n",
      "Epoch [11/20], Loss: 0.0760, Accuracy: 97.81%, Learning Rate: 0.000500\n",
      "Epoch [12/20], Loss: 0.0509, Accuracy: 97.61%, Learning Rate: 0.000500\n",
      "Epoch [13/20], Loss: 0.1041, Accuracy: 96.81%, Learning Rate: 0.000500\n",
      "Epoch [14/20], Loss: 0.0613, Accuracy: 97.81%, Learning Rate: 0.000500\n",
      "Epoch [15/20], Loss: 0.0434, Accuracy: 98.80%, Learning Rate: 0.000500\n",
      "Epoch [16/20], Loss: 0.0335, Accuracy: 98.80%, Learning Rate: 0.000500\n",
      "Epoch [17/20], Loss: 0.0565, Accuracy: 98.21%, Learning Rate: 0.000500\n",
      "Epoch [18/20], Loss: 0.0318, Accuracy: 98.61%, Learning Rate: 0.000500\n",
      "Epoch [19/20], Loss: 0.0298, Accuracy: 99.00%, Learning Rate: 0.000500\n",
      "Epoch [20/20], Loss: 0.0468, Accuracy: 97.61%, Learning Rate: 0.000500\n",
      "\n"
     ]
    },
    {
     "data": {
      "text/html": [
       "\n",
       "    <style>\n",
       "        .wandb-row {\n",
       "            display: flex;\n",
       "            flex-direction: row;\n",
       "            flex-wrap: wrap;\n",
       "            justify-content: flex-start;\n",
       "            width: 100%;\n",
       "        }\n",
       "        .wandb-col {\n",
       "            display: flex;\n",
       "            flex-direction: column;\n",
       "            flex-basis: 100%;\n",
       "            flex: 1;\n",
       "            padding: 10px;\n",
       "        }\n",
       "    </style>\n",
       "<div class=\"wandb-row\"><div class=\"wandb-col\"><h3>Run history:</h3><br/><table class=\"wandb\"><tr><td>accuracy</td><td>▁▅▆▇▆▆▆▆▇▇██▇███████</td></tr><tr><td>epoch</td><td>▁▁▂▂▂▃▃▄▄▄▅▅▅▆▆▇▇▇██</td></tr><tr><td>loss</td><td>█▃▃▂▂▃▃▃▂▁▁▁▂▁▁▁▁▁▁▁</td></tr></table><br/></div><div class=\"wandb-col\"><h3>Run summary:</h3><br/><table class=\"wandb\"><tr><td>accuracy</td><td>97.60956</td></tr><tr><td>epoch</td><td>19</td></tr><tr><td>loss</td><td>0.04678</td></tr><tr><td>model</td><td>ResNet(\n",
       "  (conv1): C...</td></tr></table><br/></div></div>"
      ],
      "text/plain": [
       "<IPython.core.display.HTML object>"
      ]
     },
     "metadata": {},
     "output_type": "display_data"
    },
    {
     "data": {
      "text/html": [
       " View run <strong style=\"color:#cdcd00\">model_a_r</strong> at: <a href='https://wandb.ai/alejandro-campos-technological-institute-of-costa-rica/project_a_r/runs/9os15jg8' target=\"_blank\">https://wandb.ai/alejandro-campos-technological-institute-of-costa-rica/project_a_r/runs/9os15jg8</a><br/> View project at: <a href='https://wandb.ai/alejandro-campos-technological-institute-of-costa-rica/project_a_r' target=\"_blank\">https://wandb.ai/alejandro-campos-technological-institute-of-costa-rica/project_a_r</a><br/>Synced 5 W&B file(s), 0 media file(s), 0 artifact file(s) and 0 other file(s)"
      ],
      "text/plain": [
       "<IPython.core.display.HTML object>"
      ]
     },
     "metadata": {},
     "output_type": "display_data"
    },
    {
     "data": {
      "text/html": [
       "Find logs at: <code>.\\wandb\\run-20241115_130913-9os15jg8\\logs</code>"
      ],
      "text/plain": [
       "<IPython.core.display.HTML object>"
      ]
     },
     "metadata": {},
     "output_type": "display_data"
    },
    {
     "data": {
      "text/html": [
       "Tracking run with wandb version 0.18.6"
      ],
      "text/plain": [
       "<IPython.core.display.HTML object>"
      ]
     },
     "metadata": {},
     "output_type": "display_data"
    },
    {
     "data": {
      "text/html": [
       "Run data is saved locally in <code>d:\\D\\TEC\\2024\\S2\\IA\\Repos\\Proyecto_2\\IC6200_AI_P2\\src\\wandb\\run-20241115_131617-9v79p6hy</code>"
      ],
      "text/plain": [
       "<IPython.core.display.HTML object>"
      ]
     },
     "metadata": {},
     "output_type": "display_data"
    },
    {
     "data": {
      "text/html": [
       "Syncing run <strong><a href='https://wandb.ai/alejandro-campos-technological-institute-of-costa-rica/project_a_b/runs/9v79p6hy' target=\"_blank\">model_a_b</a></strong> to <a href='https://wandb.ai/alejandro-campos-technological-institute-of-costa-rica/project_a_b' target=\"_blank\">Weights & Biases</a> (<a href='https://wandb.me/developer-guide' target=\"_blank\">docs</a>)<br/>"
      ],
      "text/plain": [
       "<IPython.core.display.HTML object>"
      ]
     },
     "metadata": {},
     "output_type": "display_data"
    },
    {
     "data": {
      "text/html": [
       " View project at <a href='https://wandb.ai/alejandro-campos-technological-institute-of-costa-rica/project_a_b' target=\"_blank\">https://wandb.ai/alejandro-campos-technological-institute-of-costa-rica/project_a_b</a>"
      ],
      "text/plain": [
       "<IPython.core.display.HTML object>"
      ]
     },
     "metadata": {},
     "output_type": "display_data"
    },
    {
     "data": {
      "text/html": [
       " View run at <a href='https://wandb.ai/alejandro-campos-technological-institute-of-costa-rica/project_a_b/runs/9v79p6hy' target=\"_blank\">https://wandb.ai/alejandro-campos-technological-institute-of-costa-rica/project_a_b/runs/9v79p6hy</a>"
      ],
      "text/plain": [
       "<IPython.core.display.HTML object>"
      ]
     },
     "metadata": {},
     "output_type": "display_data"
    },
    {
     "name": "stdout",
     "output_type": "stream",
     "text": [
      "Training model A Bilateral\n"
     ]
    },
    {
     "name": "stderr",
     "output_type": "stream",
     "text": [
      "c:\\Users\\aleja\\.conda\\envs\\env_IC6200_AI_P2_pytorch\\lib\\site-packages\\torch\\optim\\lr_scheduler.py:60: UserWarning: The verbose parameter is deprecated. Please use get_last_lr() to access the learning rate.\n",
      "  warnings.warn(\n"
     ]
    },
    {
     "name": "stdout",
     "output_type": "stream",
     "text": [
      "Epoch [1/20], Loss: 0.7468, Accuracy: 72.11%, Learning Rate: 0.001000\n",
      "Epoch [2/20], Loss: 0.3982, Accuracy: 86.85%, Learning Rate: 0.001000\n",
      "Epoch [3/20], Loss: 0.3066, Accuracy: 89.04%, Learning Rate: 0.001000\n",
      "Epoch [4/20], Loss: 0.3309, Accuracy: 88.25%, Learning Rate: 0.001000\n",
      "Epoch [5/20], Loss: 0.1966, Accuracy: 93.23%, Learning Rate: 0.001000\n",
      "Epoch [6/20], Loss: 0.1591, Accuracy: 94.62%, Learning Rate: 0.001000\n",
      "Epoch [7/20], Loss: 0.1329, Accuracy: 95.22%, Learning Rate: 0.001000\n",
      "Epoch [8/20], Loss: 0.1343, Accuracy: 95.42%, Learning Rate: 0.001000\n",
      "Epoch [9/20], Loss: 0.1725, Accuracy: 94.42%, Learning Rate: 0.001000\n",
      "Epoch [10/20], Loss: 0.1244, Accuracy: 96.02%, Learning Rate: 0.001000\n",
      "Epoch [11/20], Loss: 0.1181, Accuracy: 94.22%, Learning Rate: 0.001000\n",
      "Epoch [12/20], Loss: 0.1361, Accuracy: 95.82%, Learning Rate: 0.001000\n",
      "Epoch [13/20], Loss: 0.1387, Accuracy: 94.82%, Learning Rate: 0.001000\n",
      "Epoch [14/20], Loss: 0.0935, Accuracy: 96.81%, Learning Rate: 0.001000\n",
      "Epoch [15/20], Loss: 0.1142, Accuracy: 95.42%, Learning Rate: 0.001000\n",
      "Epoch [16/20], Loss: 0.0608, Accuracy: 98.01%, Learning Rate: 0.001000\n",
      "Epoch [17/20], Loss: 0.0729, Accuracy: 97.61%, Learning Rate: 0.001000\n",
      "Epoch [18/20], Loss: 0.0985, Accuracy: 96.61%, Learning Rate: 0.001000\n",
      "Epoch [19/20], Loss: 0.2384, Accuracy: 92.63%, Learning Rate: 0.001000\n",
      "Epoch [20/20], Loss: 0.1347, Accuracy: 94.62%, Learning Rate: 0.000500\n",
      "\n"
     ]
    },
    {
     "data": {
      "text/html": [
       "\n",
       "    <style>\n",
       "        .wandb-row {\n",
       "            display: flex;\n",
       "            flex-direction: row;\n",
       "            flex-wrap: wrap;\n",
       "            justify-content: flex-start;\n",
       "            width: 100%;\n",
       "        }\n",
       "        .wandb-col {\n",
       "            display: flex;\n",
       "            flex-direction: column;\n",
       "            flex-basis: 100%;\n",
       "            flex: 1;\n",
       "            padding: 10px;\n",
       "        }\n",
       "    </style>\n",
       "<div class=\"wandb-row\"><div class=\"wandb-col\"><h3>Run history:</h3><br/><table class=\"wandb\"><tr><td>accuracy</td><td>▁▅▆▅▇▇▇▇▇▇▇▇▇█▇███▇▇</td></tr><tr><td>epoch</td><td>▁▁▂▂▂▃▃▄▄▄▅▅▅▆▆▇▇▇██</td></tr><tr><td>loss</td><td>█▄▄▄▂▂▂▂▂▂▂▂▂▁▂▁▁▁▃▂</td></tr></table><br/></div><div class=\"wandb-col\"><h3>Run summary:</h3><br/><table class=\"wandb\"><tr><td>accuracy</td><td>94.62151</td></tr><tr><td>epoch</td><td>19</td></tr><tr><td>loss</td><td>0.13473</td></tr><tr><td>model</td><td>ResNet(\n",
       "  (conv1): C...</td></tr></table><br/></div></div>"
      ],
      "text/plain": [
       "<IPython.core.display.HTML object>"
      ]
     },
     "metadata": {},
     "output_type": "display_data"
    },
    {
     "data": {
      "text/html": [
       " View run <strong style=\"color:#cdcd00\">model_a_b</strong> at: <a href='https://wandb.ai/alejandro-campos-technological-institute-of-costa-rica/project_a_b/runs/9v79p6hy' target=\"_blank\">https://wandb.ai/alejandro-campos-technological-institute-of-costa-rica/project_a_b/runs/9v79p6hy</a><br/> View project at: <a href='https://wandb.ai/alejandro-campos-technological-institute-of-costa-rica/project_a_b' target=\"_blank\">https://wandb.ai/alejandro-campos-technological-institute-of-costa-rica/project_a_b</a><br/>Synced 5 W&B file(s), 0 media file(s), 0 artifact file(s) and 0 other file(s)"
      ],
      "text/plain": [
       "<IPython.core.display.HTML object>"
      ]
     },
     "metadata": {},
     "output_type": "display_data"
    },
    {
     "data": {
      "text/html": [
       "Find logs at: <code>.\\wandb\\run-20241115_131617-9v79p6hy\\logs</code>"
      ],
      "text/plain": [
       "<IPython.core.display.HTML object>"
      ]
     },
     "metadata": {},
     "output_type": "display_data"
    },
    {
     "data": {
      "text/html": [
       "Tracking run with wandb version 0.18.6"
      ],
      "text/plain": [
       "<IPython.core.display.HTML object>"
      ]
     },
     "metadata": {},
     "output_type": "display_data"
    },
    {
     "data": {
      "text/html": [
       "Run data is saved locally in <code>d:\\D\\TEC\\2024\\S2\\IA\\Repos\\Proyecto_2\\IC6200_AI_P2\\src\\wandb\\run-20241115_132433-d46x87q3</code>"
      ],
      "text/plain": [
       "<IPython.core.display.HTML object>"
      ]
     },
     "metadata": {},
     "output_type": "display_data"
    },
    {
     "data": {
      "text/html": [
       "Syncing run <strong><a href='https://wandb.ai/alejandro-campos-technological-institute-of-costa-rica/project_a_c/runs/d46x87q3' target=\"_blank\">model_a_c</a></strong> to <a href='https://wandb.ai/alejandro-campos-technological-institute-of-costa-rica/project_a_c' target=\"_blank\">Weights & Biases</a> (<a href='https://wandb.me/developer-guide' target=\"_blank\">docs</a>)<br/>"
      ],
      "text/plain": [
       "<IPython.core.display.HTML object>"
      ]
     },
     "metadata": {},
     "output_type": "display_data"
    },
    {
     "data": {
      "text/html": [
       " View project at <a href='https://wandb.ai/alejandro-campos-technological-institute-of-costa-rica/project_a_c' target=\"_blank\">https://wandb.ai/alejandro-campos-technological-institute-of-costa-rica/project_a_c</a>"
      ],
      "text/plain": [
       "<IPython.core.display.HTML object>"
      ]
     },
     "metadata": {},
     "output_type": "display_data"
    },
    {
     "data": {
      "text/html": [
       " View run at <a href='https://wandb.ai/alejandro-campos-technological-institute-of-costa-rica/project_a_c/runs/d46x87q3' target=\"_blank\">https://wandb.ai/alejandro-campos-technological-institute-of-costa-rica/project_a_c/runs/d46x87q3</a>"
      ],
      "text/plain": [
       "<IPython.core.display.HTML object>"
      ]
     },
     "metadata": {},
     "output_type": "display_data"
    },
    {
     "name": "stdout",
     "output_type": "stream",
     "text": [
      "Training model A Canny\n"
     ]
    },
    {
     "name": "stderr",
     "output_type": "stream",
     "text": [
      "c:\\Users\\aleja\\.conda\\envs\\env_IC6200_AI_P2_pytorch\\lib\\site-packages\\torch\\optim\\lr_scheduler.py:60: UserWarning: The verbose parameter is deprecated. Please use get_last_lr() to access the learning rate.\n",
      "  warnings.warn(\n"
     ]
    },
    {
     "name": "stdout",
     "output_type": "stream",
     "text": [
      "Epoch [1/20], Loss: 0.9300, Accuracy: 62.15%, Learning Rate: 0.001000\n",
      "Epoch [2/20], Loss: 0.5221, Accuracy: 78.09%, Learning Rate: 0.001000\n",
      "Epoch [3/20], Loss: 0.4836, Accuracy: 82.67%, Learning Rate: 0.001000\n",
      "Epoch [4/20], Loss: 0.4589, Accuracy: 80.48%, Learning Rate: 0.001000\n",
      "Epoch [5/20], Loss: 0.4206, Accuracy: 82.87%, Learning Rate: 0.001000\n",
      "Epoch [6/20], Loss: 0.4470, Accuracy: 83.07%, Learning Rate: 0.001000\n",
      "Epoch [7/20], Loss: 0.4481, Accuracy: 83.07%, Learning Rate: 0.001000\n",
      "Epoch [8/20], Loss: 0.3621, Accuracy: 85.86%, Learning Rate: 0.001000\n",
      "Epoch [9/20], Loss: 0.3398, Accuracy: 85.26%, Learning Rate: 0.001000\n",
      "Epoch [10/20], Loss: 0.3278, Accuracy: 86.06%, Learning Rate: 0.001000\n",
      "Epoch [11/20], Loss: 0.2711, Accuracy: 88.84%, Learning Rate: 0.001000\n",
      "Epoch [12/20], Loss: 0.2363, Accuracy: 90.84%, Learning Rate: 0.001000\n",
      "Epoch [13/20], Loss: 0.2739, Accuracy: 89.64%, Learning Rate: 0.001000\n",
      "Epoch [14/20], Loss: 0.2913, Accuracy: 89.04%, Learning Rate: 0.001000\n",
      "Epoch [15/20], Loss: 0.2669, Accuracy: 88.65%, Learning Rate: 0.001000\n",
      "Epoch [16/20], Loss: 0.3004, Accuracy: 88.45%, Learning Rate: 0.000500\n",
      "Epoch [17/20], Loss: 0.2157, Accuracy: 91.24%, Learning Rate: 0.000500\n",
      "Epoch [18/20], Loss: 0.1438, Accuracy: 94.82%, Learning Rate: 0.000500\n",
      "Epoch [19/20], Loss: 0.1733, Accuracy: 92.83%, Learning Rate: 0.000500\n",
      "Epoch [20/20], Loss: 0.1673, Accuracy: 93.63%, Learning Rate: 0.000500\n",
      "\n"
     ]
    },
    {
     "data": {
      "text/html": [
       "\n",
       "    <style>\n",
       "        .wandb-row {\n",
       "            display: flex;\n",
       "            flex-direction: row;\n",
       "            flex-wrap: wrap;\n",
       "            justify-content: flex-start;\n",
       "            width: 100%;\n",
       "        }\n",
       "        .wandb-col {\n",
       "            display: flex;\n",
       "            flex-direction: column;\n",
       "            flex-basis: 100%;\n",
       "            flex: 1;\n",
       "            padding: 10px;\n",
       "        }\n",
       "    </style>\n",
       "<div class=\"wandb-row\"><div class=\"wandb-col\"><h3>Run history:</h3><br/><table class=\"wandb\"><tr><td>accuracy</td><td>▁▄▅▅▅▅▅▆▆▆▇▇▇▇▇▇▇███</td></tr><tr><td>epoch</td><td>▁▁▂▂▂▃▃▄▄▄▅▅▅▆▆▇▇▇██</td></tr><tr><td>loss</td><td>█▄▄▄▃▄▄▃▃▃▂▂▂▂▂▂▂▁▁▁</td></tr></table><br/></div><div class=\"wandb-col\"><h3>Run summary:</h3><br/><table class=\"wandb\"><tr><td>accuracy</td><td>93.6255</td></tr><tr><td>epoch</td><td>19</td></tr><tr><td>loss</td><td>0.1673</td></tr><tr><td>model</td><td>ResNet(\n",
       "  (conv1): C...</td></tr></table><br/></div></div>"
      ],
      "text/plain": [
       "<IPython.core.display.HTML object>"
      ]
     },
     "metadata": {},
     "output_type": "display_data"
    },
    {
     "data": {
      "text/html": [
       " View run <strong style=\"color:#cdcd00\">model_a_c</strong> at: <a href='https://wandb.ai/alejandro-campos-technological-institute-of-costa-rica/project_a_c/runs/d46x87q3' target=\"_blank\">https://wandb.ai/alejandro-campos-technological-institute-of-costa-rica/project_a_c/runs/d46x87q3</a><br/> View project at: <a href='https://wandb.ai/alejandro-campos-technological-institute-of-costa-rica/project_a_c' target=\"_blank\">https://wandb.ai/alejandro-campos-technological-institute-of-costa-rica/project_a_c</a><br/>Synced 5 W&B file(s), 0 media file(s), 0 artifact file(s) and 0 other file(s)"
      ],
      "text/plain": [
       "<IPython.core.display.HTML object>"
      ]
     },
     "metadata": {},
     "output_type": "display_data"
    },
    {
     "data": {
      "text/html": [
       "Find logs at: <code>.\\wandb\\run-20241115_132433-d46x87q3\\logs</code>"
      ],
      "text/plain": [
       "<IPython.core.display.HTML object>"
      ]
     },
     "metadata": {},
     "output_type": "display_data"
    }
   ],
   "source": [
    "make_wandb_project(project_name=\"project_a_r\", model_name=\"model_a_r\", hyperparameters=HYPERPARAMETERS,\n",
    "                   model=model_a_r, print_msg=\"Training model A Raw\", data_loader=train_loader_r)\n",
    "\n",
    "make_wandb_project(project_name=\"project_a_b\", model_name=\"model_a_b\", hyperparameters=HYPERPARAMETERS,\n",
    "                   model=model_a_b, print_msg=\"Training model A Bilateral\", data_loader=train_loader_b)\n",
    "\n",
    "make_wandb_project(project_name=\"project_a_c\", model_name=\"model_a_c\", hyperparameters=HYPERPARAMETERS,\n",
    "                   model=model_a_c, print_msg=\"Training model A Canny\", data_loader=train_loader_c)"
   ]
  },
  {
   "cell_type": "markdown",
   "id": "bda55c97",
   "metadata": {},
   "source": [
    "## 4.6 Evaluación de modelos A"
   ]
  },
  {
   "cell_type": "code",
   "execution_count": 14,
   "id": "c645dd67",
   "metadata": {},
   "outputs": [
    {
     "name": "stdout",
     "output_type": "stream",
     "text": [
      "Evaluating model A Raw\n",
      "Accuracy of the model on the test images: 95.45%\n",
      "\n",
      "Evaluating model A Bilateral\n",
      "Accuracy of the model on the test images: 90.91%\n",
      "\n",
      "Evaluating model A Canny\n",
      "Accuracy of the model on the test images: 84.85%\n",
      "\n"
     ]
    }
   ],
   "source": [
    "print(\"Evaluating model A Raw\")\n",
    "evaluate_model(model=model_a_r, test_data_loader=test_loader_r)\n",
    "print()\n",
    "\n",
    "print(\"Evaluating model A Bilateral\")\n",
    "evaluate_model(model=model_a_b, test_data_loader=test_loader_b)\n",
    "print()\n",
    "\n",
    "print(\"Evaluating model A Canny\")\n",
    "evaluate_model(model=model_a_c, test_data_loader=test_loader_c)\n",
    "print()"
   ]
  },
  {
   "cell_type": "markdown",
   "id": "c0c1905d",
   "metadata": {},
   "source": [
    "## 4.7 Matriz de confusión de los modelos A"
   ]
  },
  {
   "cell_type": "code",
   "execution_count": 15,
   "id": "ed71c495",
   "metadata": {},
   "outputs": [
    {
     "name": "stdout",
     "output_type": "stream",
     "text": [
      "Evaluando modelo A Raw\n"
     ]
    },
    {
     "data": {
      "image/png": "[encoded data removed]",
      "text/plain": [
       "<Figure size 640x480 with 2 Axes>"
      ]
     },
     "metadata": {},
     "output_type": "display_data"
    },
    {
     "name": "stdout",
     "output_type": "stream",
     "text": [
      "Evaluando modelo A Bilateral\n"
     ]
    },
    {
     "data": {
      "image/png": "[encoded data removed]",
      "text/plain": [
       "<Figure size 640x480 with 2 Axes>"
      ]
     },
     "metadata": {},
     "output_type": "display_data"
    },
    {
     "name": "stdout",
     "output_type": "stream",
     "text": [
      "Evaluando modelo A Canny\n"
     ]
    },
    {
     "data": {
      "image/png": "[encoded data removed]",
      "text/plain": [
       "<Figure size 640x480 with 2 Axes>"
      ]
     },
     "metadata": {},
     "output_type": "display_data"
    }
   ],
   "source": [
    "print(\"Evaluando modelo A Raw\")\n",
    "y_true_r, y_pred_r = get_predictions(model=model_a_r, data_loader=test_loader_r)\n",
    "plot_confusion_matrix(y_true_r, y_pred_r, class_names=['Clase 0', 'Clase 1', 'Clase 2'])\n",
    "\n",
    "print(\"Evaluando modelo A Bilateral\")\n",
    "y_true_b, y_pred_b = get_predictions(model=model_a_b, data_loader=test_loader_b)\n",
    "plot_confusion_matrix(y_true_b, y_pred_b, class_names=['Clase 0', 'Clase 1', 'Clase 2'])\n",
    "\n",
    "print(\"Evaluando modelo A Canny\")\n",
    "y_true_c, y_pred_c = get_predictions(model=model_a_c, data_loader=test_loader_c)\n",
    "plot_confusion_matrix(y_true_c, y_pred_c, class_names=['Clase 0', 'Clase 1', 'Clase 2'])"
   ]
  },
  {
   "cell_type": "markdown",
   "id": "ff3026f7-9a09-4df9-b89d-d3cde95a9621",
   "metadata": {},
   "source": [
    "# 4.6 Exportar resultados"
   ]
  },
  {
   "cell_type": "code",
   "execution_count": 16,
   "id": "b84ac498-2d61-453d-8c72-1af74f5966ec",
   "metadata": {},
   "outputs": [],
   "source": [
    "file_name = 'model_a_r.pth'\n",
    "filepath = os.path.join(CHECKPOINTS_DIR, MODEL_A_CHECKPOINTS_DIR, file_name)\n",
    "\n",
    "os.makedirs(os.path.dirname(filepath), exist_ok=True)\n",
    "\n",
    "# Model A Raw\n",
    "torch.save(model_a_r.state_dict(), filepath)\n",
    "\n",
    "# Model A Bilateral\n",
    "file_name = 'model_a_b.pth'\n",
    "filepath = os.path.join(CHECKPOINTS_DIR, MODEL_A_CHECKPOINTS_DIR, file_name)\n",
    "torch.save(model_a_b.state_dict(), filepath)\n",
    "\n",
    "# Model A Canny\n",
    "file_name = 'model_a_c.pth'\n",
    "filepath = os.path.join(CHECKPOINTS_DIR, MODEL_A_CHECKPOINTS_DIR, file_name)\n",
    "torch.save(model_a_c.state_dict(), filepath)"
   ]
  }
 ],
 "metadata": {
  "kernelspec": {
   "display_name": "env_IC6200_AI_P2_pytorch",
   "language": "python",
   "name": "python3"
  },
  "language_info": {
   "codemirror_mode": {
    "name": "ipython",
    "version": 3
   },
   "file_extension": ".py",
   "mimetype": "text/x-python",
   "name": "python",
   "nbconvert_exporter": "python",
   "pygments_lexer": "ipython3",
   "version": "3.8.20"
  }
 },
 "nbformat": 4,
 "nbformat_minor": 5
}
