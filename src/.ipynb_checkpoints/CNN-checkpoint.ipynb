{
 "cells": [
  {
   "cell_type": "markdown",
   "id": "a7450d71-b3fb-4acb-8715-73ce35f9b9fc",
   "metadata": {},
   "source": [
    "<!-- PROJECT LOGO -->\n",
    "<br />\n",
    "<div align=\"center\">\n",
    "  <a>\n",
    "    <!-- <img src=\"https://res.cloudinary.com/dek4evg4t/image/upload/v1725947133/Frame_10507_1.png\" alt=\"Logo\" width=\"40%\"> -->\n",
    "  </a>\n",
    "</div>\n",
    "\n",
    "\n",
    "### 🖹 Descripción: \n",
    "<!-- Este notebook tiene como objetivo principal aplicar diversas técnicas de clasificación de datos en el conjunto de datos provienente del Instituto Nacional de Diabetes y Enfermedades Digestivas y Renales, y su finalidad es predecir de manera diagnóstica si un paciente tiene diabetes, basándose en un conjunto de mediciones realizadas. Enlace: [Pima Indians Diabetes Database](https://www.kaggle.com/datasets/uciml/pima-indians-diabetes-database). Con el fin de de explorar herramientas avanzadas de Machine Learning y contribuir al desarrollo del conocimiento a través de la investigación. -->\n",
    "\n",
    "### ✍️ Autores: \n",
    "* Angelo Ortiz Vega - [@angelortizv](https://github.com/angelortizv)\n",
    "* Alejandro Campos Abarca - [@MajinLoop](https://github.com/MajinLoop)\n",
    "\n",
    "### 📅 Fecha: \n",
    "9 de octubre de 2024\n",
    "\n",
    "### 📝 Notas: \n",
    "<!-- Este notebook es el primero de dos que forman parte del primer proyecto del curso IC6200 - Inteligencia Artificial. Este notebook está titulado \"diabetes\", mientras que el siguiente se llama \"alzheimer\". -->\n",
    "\n",
    "### Otras notas:\n",
    "<!-- - Asegurarse de que Python esté instalado, junto con las bibliotecas necesarias: pandas, numpy, matplotlib, seaborn, scipy, ydata_profiling, utils. -->\n"
   ]
  },
  {
   "cell_type": "markdown",
   "id": "eb193973-d2be-44d9-9aa2-6b77c6853646",
   "metadata": {},
   "source": [
    "# Importación de Librerías"
   ]
  },
  {
   "cell_type": "code",
   "execution_count": 26,
   "id": "d4ecfc9c-01ea-47af-a3cb-907e031dafd9",
   "metadata": {},
   "outputs": [],
   "source": [
    "import matplotlib.pyplot as plt\n",
    "import tensorflow as tf\n",
    "from tensorflow.keras import layers, models\n",
    "from tensorflow.keras.preprocessing.image import ImageDataGenerator\n",
    "\n",
    "import torch\n",
    "\n",
    "# Verifica si CUDA está disponible y si hay GPUs disponibles\n",
    "print(\"CUDA Available: \", torch.cuda.is_available())\n",
    "print(\"Number of GPUs: \", torch.cuda.device_count())\n",
    "print(\"Current GPU: \", torch.cuda.get_device_name(0) if torch.cuda.is_available() else \"No GPU\")\n"
   ]
  },
  {
   "cell_type": "markdown",
   "id": "b0244b6e",
   "metadata": {},
   "source": [
    "## verificar version de Tensorflow"
   ]
  },
  {
   "cell_type": "code",
   "execution_count": 27,
   "id": "2c823e1c",
   "metadata": {},
   "outputs": [
    {
     "name": "stdout",
     "output_type": "stream",
     "text": [
      "2.6.0\n",
      "Num GPUs Available:  1\n"
     ]
    }
   ],
   "source": [
    "print(tf.__version__)\n",
    "print(\"Num GPUs Available: \", len(tf.config.list_physical_devices('GPU')))"
   ]
  },
  {
   "cell_type": "markdown",
   "id": "bb1a7e24-bb26-4dc5-9d85-16c332c33c37",
   "metadata": {},
   "source": [
    "# Definición de Constantes"
   ]
  },
  {
   "cell_type": "code",
   "execution_count": 28,
   "id": "54c14a2e-4173-4498-ab5c-14c417ef9ec6",
   "metadata": {},
   "outputs": [],
   "source": [
    "IMG_HEIGHT = 150\n",
    "IMG_WIDTH = 150\n",
    "BATCH_SIZE = 32\n",
    "EPOCHS = 10\n",
    "TRAIN_DATA_PATH = 'data/Covid19-dataset/train'\n",
    "TEST_DATA_PATH = 'data/Covid19-dataset/test'\n",
    "IMAGE_DATA_GENERATOR_RESCALE = 1./255\n"
   ]
  },
  {
   "cell_type": "markdown",
   "id": "6ff29366-f8e8-4e64-93fd-3f7471a65a5e",
   "metadata": {},
   "source": [
    "# Creación de los dataframes"
   ]
  },
  {
   "cell_type": "code",
   "execution_count": 29,
   "id": "0482fd7a-4983-42d6-84d0-c950afcee3c0",
   "metadata": {},
   "outputs": [
    {
     "name": "stdout",
     "output_type": "stream",
     "text": [
      "Found 251 images belonging to 3 classes.\n",
      "Found 66 images belonging to 3 classes.\n"
     ]
    }
   ],
   "source": [
    "\"\"\"\n",
    "Un train_generator en Keras es un generador de datos que carga y procesa imágenes en lotes durante el entrenamiento de un modelo,\n",
    "optimizando el uso de memoria. Suele utilizar ImageDataGenerator para aplicar aumentos de datos, como rotaciones y desplazamientos,\n",
    "mejorando la generalización del modelo. Este generador permite entrenar modelos sobre grandes conjuntos de datos sin necesidad de\n",
    "cargarlos completamente en memoria. Se integra fácilmente con el método fit de Keras.\n",
    "\"\"\"\n",
    "\n",
    "def get_generator(path, target_size=(IMG_HEIGHT, IMG_WIDTH), batch_size=BATCH_SIZE, class_mode='categorical'):\n",
    "    image_data_generator = ImageDataGenerator(rescale=IMAGE_DATA_GENERATOR_RESCALE)\n",
    "    generator = image_data_generator.flow_from_directory \\\n",
    "    (\n",
    "        path,\n",
    "        target_size=target_size,\n",
    "        batch_size=batch_size,\n",
    "        class_mode=class_mode\n",
    "    )\n",
    "    # 'categorical' para más de dos clases\n",
    "    return generator\n",
    "\n",
    "# Carga de datos de entrenamiento\n",
    "train_generator = get_generator(TRAIN_DATA_PATH)\n",
    "\n",
    "# Carga de datos de prueba\n",
    "test_generator = get_generator(TEST_DATA_PATH)"
   ]
  },
  {
   "cell_type": "code",
   "execution_count": 30,
   "id": "8a62fbe4",
   "metadata": {},
   "outputs": [],
   "source": [
    "# train_generator.shape"
   ]
  },
  {
   "cell_type": "markdown",
   "id": "25386170-6539-493f-b61b-1ae50cd884ac",
   "metadata": {},
   "source": [
    "# 7. Exploratory Data Analysis (EDA)"
   ]
  },
  {
   "cell_type": "markdown",
   "id": "986726c4-26b2-4a32-9dea-24a5cd76b959",
   "metadata": {},
   "source": [
    "## 7.1. Gráficos de barras de características agrupadas por diabetes"
   ]
  },
  {
   "cell_type": "code",
   "execution_count": 84,
   "id": "0ae5a6d1-f68f-4e9e-b3cd-2d6974277bd2",
   "metadata": {},
   "outputs": [],
   "source": []
  },
  {
   "cell_type": "markdown",
   "id": "affcffc3-8695-4c76-a66a-f4ffc58921f9",
   "metadata": {},
   "source": [
    "## 7.2. Informe de correlación de características de la diabetes"
   ]
  },
  {
   "cell_type": "code",
   "execution_count": null,
   "id": "9b0f5323-764a-40b2-aeaf-2ce7544df013",
   "metadata": {},
   "outputs": [],
   "source": []
  },
  {
   "cell_type": "markdown",
   "id": "3775a6d5-ac18-4f69-a9c4-c1c8de29ee04",
   "metadata": {},
   "source": []
  },
  {
   "cell_type": "markdown",
   "id": "251b3e57-6289-4d44-b8ce-fde55ee82568",
   "metadata": {},
   "source": [
    "## 7.3. Visualización de relación entre características"
   ]
  },
  {
   "cell_type": "code",
   "execution_count": null,
   "id": "fe359934-b18a-4784-858a-c3c2cca8cd88",
   "metadata": {},
   "outputs": [],
   "source": []
  },
  {
   "cell_type": "markdown",
   "id": "9550b473-378a-49f4-99c2-08921a07d577",
   "metadata": {},
   "source": [
    "# 8. Reducción de dimensionalidad"
   ]
  },
  {
   "cell_type": "code",
   "execution_count": 87,
   "id": "13fdc1c5-ad3c-4eae-bf26-f64ca61bf88e",
   "metadata": {},
   "outputs": [],
   "source": []
  },
  {
   "cell_type": "markdown",
   "id": "8c539ea1-6a31-4c82-994b-ac540dd11111",
   "metadata": {},
   "source": [
    "## 8.1. Manejo de valores con 0 "
   ]
  },
  {
   "cell_type": "code",
   "execution_count": null,
   "id": "cba069c3-5e75-4995-a0c6-af46e0fa5325",
   "metadata": {},
   "outputs": [],
   "source": []
  },
  {
   "cell_type": "code",
   "execution_count": 89,
   "id": "992191d1-fc43-4ed8-b8f4-42ee333513b0",
   "metadata": {},
   "outputs": [],
   "source": []
  },
  {
   "cell_type": "markdown",
   "id": "3bd9597a-92b1-4daa-8490-d9b9c6efea9d",
   "metadata": {},
   "source": [
    "## 8.2 Visualización de relación entre características después del manejo de datos"
   ]
  },
  {
   "cell_type": "code",
   "execution_count": null,
   "id": "2092fcd2-3d2f-4fcf-8102-4c2fc663cf6e",
   "metadata": {},
   "outputs": [],
   "source": []
  },
  {
   "cell_type": "markdown",
   "id": "78657128-b115-4cd4-bf2b-1f1e1a70980c",
   "metadata": {},
   "source": [
    "# 9. División del dataframe"
   ]
  },
  {
   "cell_type": "code",
   "execution_count": 91,
   "id": "bfde176b-bbef-4d03-a52a-a052f9cbe24e",
   "metadata": {},
   "outputs": [],
   "source": []
  },
  {
   "cell_type": "markdown",
   "id": "225f0751-fc07-4e8d-8490-65c04f45857e",
   "metadata": {},
   "source": [
    "# Creación del modelo"
   ]
  },
  {
   "cell_type": "code",
   "execution_count": 31,
   "id": "cef183fe-154c-4f86-a5d3-5fe294692448",
   "metadata": {},
   "outputs": [],
   "source": [
    "model = models.Sequential \\\n",
    "(\n",
    "    [\n",
    "        layers.Conv2D(32, (3, 3), activation='relu', input_shape=(IMG_HEIGHT, IMG_WIDTH, 3)),\n",
    "        layers.MaxPooling2D(pool_size=(2, 2)),\n",
    "        \n",
    "        layers.Conv2D(64, (3, 3), activation='relu'),\n",
    "        layers.MaxPooling2D(pool_size=(2, 2)),\n",
    "        \n",
    "        layers.Conv2D(128, (3, 3), activation='relu'),\n",
    "        layers.MaxPooling2D(pool_size=(2, 2)),\n",
    "        \n",
    "        layers.Flatten(),\n",
    "        layers.Dense(128, activation='relu'),\n",
    "        layers.Dense(3, activation='softmax')  # 3 categorías\n",
    "    ]\n",
    ")\n",
    "\n",
    "model.compile \\\n",
    "(\n",
    "    optimizer='adam',\n",
    "    loss='categorical_crossentropy',  # Usar 'sparse_categorical_crossentropy' si las etiquetas son enteros\n",
    "    metrics=['accuracy']\n",
    ")"
   ]
  },
  {
   "cell_type": "markdown",
   "id": "fd6cd0a6-ff2c-49da-b405-60b99360ec0a",
   "metadata": {},
   "source": [
    "# Entrenamiento del modelo"
   ]
  },
  {
   "cell_type": "code",
   "execution_count": 32,
   "id": "508c13d7-c177-4fba-937b-d88d8aa130a1",
   "metadata": {},
   "outputs": [
    {
     "name": "stdout",
     "output_type": "stream",
     "text": [
      "Epoch 1/10\n",
      "8/8 [==============================] - 26s 3s/step - loss: 1.2514 - accuracy: 0.3665\n",
      "Epoch 2/10\n",
      "8/8 [==============================] - 23s 2s/step - loss: 0.6466 - accuracy: 0.8008\n",
      "Epoch 3/10\n",
      "8/8 [==============================] - 19s 2s/step - loss: 0.3391 - accuracy: 0.8645\n",
      "Epoch 4/10\n",
      "8/8 [==============================] - 33s 4s/step - loss: 0.2163 - accuracy: 0.9243\n",
      "Epoch 5/10\n",
      "8/8 [==============================] - 32s 3s/step - loss: 0.1424 - accuracy: 0.9442\n",
      "Epoch 6/10\n",
      "8/8 [==============================] - 27s 2s/step - loss: 0.1109 - accuracy: 0.9602\n",
      "Epoch 7/10\n",
      "8/8 [==============================] - 45s 5s/step - loss: 0.0829 - accuracy: 0.9602\n",
      "Epoch 8/10\n",
      "8/8 [==============================] - 46s 5s/step - loss: 0.0648 - accuracy: 0.9721\n",
      "Epoch 9/10\n",
      "8/8 [==============================] - 36s 4s/step - loss: 0.0675 - accuracy: 0.9641\n",
      "Epoch 10/10\n",
      "8/8 [==============================] - 35s 4s/step - loss: 0.0595 - accuracy: 0.9721\n"
     ]
    }
   ],
   "source": [
    "# Training with validation generator\n",
    "# history = model.fit \\\n",
    "# (\n",
    "#     train_generator,\n",
    "#     steps_per_epoch=train_generator.samples // BATCH_SIZE,\n",
    "#     validation_data=validation_generator,\n",
    "#     validation_steps=validation_generator.samples // BATCH_SIZE,\n",
    "#     epochs=EPOCHS\n",
    "# )\n",
    "\n",
    "# For some reason using testing set as validation set\n",
    "# history = model.fit \\\n",
    "# (\n",
    "#     train_generator,\n",
    "#     steps_per_epoch=train_generator.samples // BATCH_SIZE,\n",
    "#     validation_data=test_generator,\n",
    "#     validation_steps=test_generator.samples // BATCH_SIZE,\n",
    "#     epochs=EPOCHS\n",
    "# )\n",
    "\n",
    "# With only training set\n",
    "history = model.fit(train_generator, epochs=EPOCHS)"
   ]
  },
  {
   "cell_type": "markdown",
   "id": "0f8344c9-54e7-4cb8-b115-0e74011eede6",
   "metadata": {},
   "source": [
    "# Evaluacion del modelo"
   ]
  },
  {
   "cell_type": "code",
   "execution_count": 33,
   "id": "61615dac-3824-4a44-a079-d873261bb213",
   "metadata": {},
   "outputs": [
    {
     "name": "stdout",
     "output_type": "stream",
     "text": [
      "3/3 [==============================] - 9s 457ms/step - loss: 0.5863 - accuracy: 0.8182\n",
      "Test accuracy: 0.8181818127632141\n"
     ]
    },
    {
     "data": {
      "image/png": "[encoded data removed]",
      "text/plain": [
       "<Figure size 640x480 with 1 Axes>"
      ]
     },
     "metadata": {},
     "output_type": "display_data"
    }
   ],
   "source": [
    "# # Evaluar el modelo con validacion\n",
    "# loss, accuracy = model.evaluate(test_generator)\n",
    "# print(f'Test accuracy: {accuracy}')\n",
    "# plt.plot(history.history['accuracy'], label='accuracy')\n",
    "# plt.plot(history.history['val_accuracy'], label='val_accuracy')\n",
    "# plt.xlabel('Epoch')\n",
    "# plt.ylabel('Accuracy')\n",
    "# plt.legend()\n",
    "# plt.show()\n",
    "\"\"\"\n",
    "val_accuracy (precisión de validación): Mide la precisión del modelo sobre los datos de validación, es decir, datos que no se utilizaron\n",
    "durante el entrenamiento, pero que se emplean para evaluar cómo de bien generaliza el modelo a datos nuevos o desconocidos.\n",
    "\"\"\"\n",
    "\n",
    "# Evaluar el modelo\n",
    "loss, test_accuracy = model.evaluate(test_generator)\n",
    "print(f'Test accuracy: {test_accuracy}')\n",
    "plt.plot(history.history['accuracy'], label='accuracy')  # Solo la precisión de entrenamiento\n",
    "plt.xlabel('Epoch')\n",
    "plt.ylabel('Accuracy')\n",
    "plt.title('Training Accuracy')\n",
    "plt.legend()\n",
    "plt.show()"
   ]
  },
  {
   "cell_type": "markdown",
   "id": "0132d454",
   "metadata": {},
   "source": [
    "accuracy (precisión): Es la métrica que mide la precisión del modelo sobre los datos de entrenamiento. Representa el porcentaje de predicciones correctas que hizo el modelo sobre los ejemplos con los que fue entrenado.\n",
    "\n"
   ]
  }
 ],
 "metadata": {
  "kernelspec": {
   "display_name": "env_IC6200_AI_P2",
   "language": "python",
   "name": "python3"
  },
  "language_info": {
   "codemirror_mode": {
    "name": "ipython",
    "version": 3
   },
   "file_extension": ".py",
   "mimetype": "text/x-python",
   "name": "python",
   "nbconvert_exporter": "python",
   "pygments_lexer": "ipython3",
   "version": "3.8.18"
  }
 },
 "nbformat": 4,
 "nbformat_minor": 5
}
